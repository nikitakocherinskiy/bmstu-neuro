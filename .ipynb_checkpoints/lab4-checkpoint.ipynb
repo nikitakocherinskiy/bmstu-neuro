{
 "cells": [
  {
   "cell_type": "code",
   "execution_count": 1,
   "metadata": {},
   "outputs": [],
   "source": [
    "from sklearn.preprocessing import StandardScaler\n",
    "from sklearn.neural_network import MLPClassifier\n",
    "from sklearn.model_selection import train_test_split\n",
    "from sklearn.metrics import accuracy_score\n",
    "import numpy as np\n",
    "import pandas as pd\n",
    "import seaborn as sns\n",
    "from sklearn.utils import shuffle\n",
    "from sklearn.metrics import confusion_matrix\n",
    "import matplotlib.pyplot as plt\n",
    "import warnings\n",
    "warnings.filterwarnings('ignore')"
   ]
  },
  {
   "cell_type": "code",
   "execution_count": 2,
   "metadata": {},
   "outputs": [],
   "source": [
    "pd.set_option('display.max_columns', None)\n",
    "dfInit = pd.read_csv(\"pistachio.csv\")\n",
    "df = dfInit.copy(deep=True)\n",
    "df = shuffle(df)"
   ]
  },
  {
   "cell_type": "code",
   "execution_count": 3,
   "metadata": {},
   "outputs": [
    {
     "data": {
      "text/html": [
       "<div>\n",
       "<style scoped>\n",
       "    .dataframe tbody tr th:only-of-type {\n",
       "        vertical-align: middle;\n",
       "    }\n",
       "\n",
       "    .dataframe tbody tr th {\n",
       "        vertical-align: top;\n",
       "    }\n",
       "\n",
       "    .dataframe thead th {\n",
       "        text-align: right;\n",
       "    }\n",
       "</style>\n",
       "<table border=\"1\" class=\"dataframe\">\n",
       "  <thead>\n",
       "    <tr style=\"text-align: right;\">\n",
       "      <th></th>\n",
       "      <th>AREA</th>\n",
       "      <th>PERIMETER</th>\n",
       "      <th>MAJOR_AXIS</th>\n",
       "      <th>MINOR_AXIS</th>\n",
       "      <th>ECCENTRICITY</th>\n",
       "      <th>EQDIASQ</th>\n",
       "      <th>SOLIDITY</th>\n",
       "      <th>CONVEX_AREA</th>\n",
       "      <th>EXTENT</th>\n",
       "      <th>ASPECT_RATIO</th>\n",
       "      <th>ROUNDNESS</th>\n",
       "      <th>COMPACTNESS</th>\n",
       "      <th>SHAPEFACTOR_1</th>\n",
       "      <th>SHAPEFACTOR_2</th>\n",
       "      <th>SHAPEFACTOR_3</th>\n",
       "      <th>SHAPEFACTOR_4</th>\n",
       "      <th>Class</th>\n",
       "    </tr>\n",
       "  </thead>\n",
       "  <tbody>\n",
       "    <tr>\n",
       "      <th>1198</th>\n",
       "      <td>80603</td>\n",
       "      <td>1214.2230</td>\n",
       "      <td>457.3537</td>\n",
       "      <td>227.8103</td>\n",
       "      <td>0.8671</td>\n",
       "      <td>320.3544</td>\n",
       "      <td>0.9754</td>\n",
       "      <td>82638</td>\n",
       "      <td>0.7490</td>\n",
       "      <td>2.0076</td>\n",
       "      <td>0.6870</td>\n",
       "      <td>0.7005</td>\n",
       "      <td>0.0057</td>\n",
       "      <td>0.0028</td>\n",
       "      <td>0.4906</td>\n",
       "      <td>0.9850</td>\n",
       "      <td>Kirmizi_Pistachio</td>\n",
       "    </tr>\n",
       "    <tr>\n",
       "      <th>1224</th>\n",
       "      <td>62610</td>\n",
       "      <td>1135.9950</td>\n",
       "      <td>403.5225</td>\n",
       "      <td>223.8322</td>\n",
       "      <td>0.8321</td>\n",
       "      <td>282.3429</td>\n",
       "      <td>0.8782</td>\n",
       "      <td>71296</td>\n",
       "      <td>0.6953</td>\n",
       "      <td>1.8028</td>\n",
       "      <td>0.6097</td>\n",
       "      <td>0.6997</td>\n",
       "      <td>0.0064</td>\n",
       "      <td>0.0036</td>\n",
       "      <td>0.4896</td>\n",
       "      <td>0.8826</td>\n",
       "      <td>Kirmizi_Pistachio</td>\n",
       "    </tr>\n",
       "    <tr>\n",
       "      <th>1214</th>\n",
       "      <td>72847</td>\n",
       "      <td>1096.6250</td>\n",
       "      <td>414.6591</td>\n",
       "      <td>232.0412</td>\n",
       "      <td>0.8288</td>\n",
       "      <td>304.5516</td>\n",
       "      <td>0.9384</td>\n",
       "      <td>77626</td>\n",
       "      <td>0.6662</td>\n",
       "      <td>1.7870</td>\n",
       "      <td>0.7612</td>\n",
       "      <td>0.7345</td>\n",
       "      <td>0.0057</td>\n",
       "      <td>0.0032</td>\n",
       "      <td>0.5394</td>\n",
       "      <td>0.9640</td>\n",
       "      <td>Kirmizi_Pistachio</td>\n",
       "    </tr>\n",
       "    <tr>\n",
       "      <th>433</th>\n",
       "      <td>88111</td>\n",
       "      <td>2569.4829</td>\n",
       "      <td>420.8587</td>\n",
       "      <td>289.3067</td>\n",
       "      <td>0.7263</td>\n",
       "      <td>334.9424</td>\n",
       "      <td>0.9184</td>\n",
       "      <td>95937</td>\n",
       "      <td>0.7422</td>\n",
       "      <td>1.4547</td>\n",
       "      <td>0.1677</td>\n",
       "      <td>0.7959</td>\n",
       "      <td>0.0048</td>\n",
       "      <td>0.0033</td>\n",
       "      <td>0.6334</td>\n",
       "      <td>0.9214</td>\n",
       "      <td>Siit_Pistachio</td>\n",
       "    </tr>\n",
       "    <tr>\n",
       "      <th>188</th>\n",
       "      <td>86580</td>\n",
       "      <td>1503.3230</td>\n",
       "      <td>428.6295</td>\n",
       "      <td>267.9256</td>\n",
       "      <td>0.7806</td>\n",
       "      <td>332.0197</td>\n",
       "      <td>0.9260</td>\n",
       "      <td>93500</td>\n",
       "      <td>0.7275</td>\n",
       "      <td>1.5998</td>\n",
       "      <td>0.4814</td>\n",
       "      <td>0.7746</td>\n",
       "      <td>0.0050</td>\n",
       "      <td>0.0031</td>\n",
       "      <td>0.6000</td>\n",
       "      <td>0.9599</td>\n",
       "      <td>Siit_Pistachio</td>\n",
       "    </tr>\n",
       "    <tr>\n",
       "      <th>...</th>\n",
       "      <td>...</td>\n",
       "      <td>...</td>\n",
       "      <td>...</td>\n",
       "      <td>...</td>\n",
       "      <td>...</td>\n",
       "      <td>...</td>\n",
       "      <td>...</td>\n",
       "      <td>...</td>\n",
       "      <td>...</td>\n",
       "      <td>...</td>\n",
       "      <td>...</td>\n",
       "      <td>...</td>\n",
       "      <td>...</td>\n",
       "      <td>...</td>\n",
       "      <td>...</td>\n",
       "      <td>...</td>\n",
       "      <td>...</td>\n",
       "    </tr>\n",
       "    <tr>\n",
       "      <th>407</th>\n",
       "      <td>76974</td>\n",
       "      <td>1808.1899</td>\n",
       "      <td>436.1127</td>\n",
       "      <td>250.8643</td>\n",
       "      <td>0.8180</td>\n",
       "      <td>313.0596</td>\n",
       "      <td>0.8982</td>\n",
       "      <td>85694</td>\n",
       "      <td>0.7183</td>\n",
       "      <td>1.7384</td>\n",
       "      <td>0.2958</td>\n",
       "      <td>0.7178</td>\n",
       "      <td>0.0057</td>\n",
       "      <td>0.0033</td>\n",
       "      <td>0.5153</td>\n",
       "      <td>0.8958</td>\n",
       "      <td>Kirmizi_Pistachio</td>\n",
       "    </tr>\n",
       "    <tr>\n",
       "      <th>1534</th>\n",
       "      <td>84300</td>\n",
       "      <td>1205.7600</td>\n",
       "      <td>477.2196</td>\n",
       "      <td>229.8328</td>\n",
       "      <td>0.8764</td>\n",
       "      <td>327.6188</td>\n",
       "      <td>0.9635</td>\n",
       "      <td>87492</td>\n",
       "      <td>0.7257</td>\n",
       "      <td>2.0764</td>\n",
       "      <td>0.7286</td>\n",
       "      <td>0.6865</td>\n",
       "      <td>0.0057</td>\n",
       "      <td>0.0027</td>\n",
       "      <td>0.4713</td>\n",
       "      <td>0.9786</td>\n",
       "      <td>Kirmizi_Pistachio</td>\n",
       "    </tr>\n",
       "    <tr>\n",
       "      <th>747</th>\n",
       "      <td>87016</td>\n",
       "      <td>1761.4640</td>\n",
       "      <td>433.3289</td>\n",
       "      <td>289.7881</td>\n",
       "      <td>0.7435</td>\n",
       "      <td>332.8546</td>\n",
       "      <td>0.8608</td>\n",
       "      <td>101085</td>\n",
       "      <td>0.6469</td>\n",
       "      <td>1.4953</td>\n",
       "      <td>0.3524</td>\n",
       "      <td>0.7681</td>\n",
       "      <td>0.0050</td>\n",
       "      <td>0.0033</td>\n",
       "      <td>0.5900</td>\n",
       "      <td>0.8823</td>\n",
       "      <td>Siit_Pistachio</td>\n",
       "    </tr>\n",
       "    <tr>\n",
       "      <th>389</th>\n",
       "      <td>76243</td>\n",
       "      <td>1147.8000</td>\n",
       "      <td>427.4913</td>\n",
       "      <td>236.7003</td>\n",
       "      <td>0.8327</td>\n",
       "      <td>311.5696</td>\n",
       "      <td>0.9252</td>\n",
       "      <td>82410</td>\n",
       "      <td>0.6910</td>\n",
       "      <td>1.8060</td>\n",
       "      <td>0.7272</td>\n",
       "      <td>0.7288</td>\n",
       "      <td>0.0056</td>\n",
       "      <td>0.0031</td>\n",
       "      <td>0.5312</td>\n",
       "      <td>0.9594</td>\n",
       "      <td>Kirmizi_Pistachio</td>\n",
       "    </tr>\n",
       "    <tr>\n",
       "      <th>864</th>\n",
       "      <td>71991</td>\n",
       "      <td>1429.0660</td>\n",
       "      <td>453.8190</td>\n",
       "      <td>211.9316</td>\n",
       "      <td>0.8843</td>\n",
       "      <td>302.7570</td>\n",
       "      <td>0.9290</td>\n",
       "      <td>77489</td>\n",
       "      <td>0.6628</td>\n",
       "      <td>2.1413</td>\n",
       "      <td>0.4430</td>\n",
       "      <td>0.6671</td>\n",
       "      <td>0.0063</td>\n",
       "      <td>0.0029</td>\n",
       "      <td>0.4451</td>\n",
       "      <td>0.9530</td>\n",
       "      <td>Kirmizi_Pistachio</td>\n",
       "    </tr>\n",
       "  </tbody>\n",
       "</table>\n",
       "<p>1718 rows × 17 columns</p>\n",
       "</div>"
      ],
      "text/plain": [
       "       AREA  PERIMETER  MAJOR_AXIS  MINOR_AXIS  ECCENTRICITY   EQDIASQ  \\\n",
       "1198  80603  1214.2230    457.3537    227.8103        0.8671  320.3544   \n",
       "1224  62610  1135.9950    403.5225    223.8322        0.8321  282.3429   \n",
       "1214  72847  1096.6250    414.6591    232.0412        0.8288  304.5516   \n",
       "433   88111  2569.4829    420.8587    289.3067        0.7263  334.9424   \n",
       "188   86580  1503.3230    428.6295    267.9256        0.7806  332.0197   \n",
       "...     ...        ...         ...         ...           ...       ...   \n",
       "407   76974  1808.1899    436.1127    250.8643        0.8180  313.0596   \n",
       "1534  84300  1205.7600    477.2196    229.8328        0.8764  327.6188   \n",
       "747   87016  1761.4640    433.3289    289.7881        0.7435  332.8546   \n",
       "389   76243  1147.8000    427.4913    236.7003        0.8327  311.5696   \n",
       "864   71991  1429.0660    453.8190    211.9316        0.8843  302.7570   \n",
       "\n",
       "      SOLIDITY  CONVEX_AREA  EXTENT  ASPECT_RATIO  ROUNDNESS  COMPACTNESS  \\\n",
       "1198    0.9754        82638  0.7490        2.0076     0.6870       0.7005   \n",
       "1224    0.8782        71296  0.6953        1.8028     0.6097       0.6997   \n",
       "1214    0.9384        77626  0.6662        1.7870     0.7612       0.7345   \n",
       "433     0.9184        95937  0.7422        1.4547     0.1677       0.7959   \n",
       "188     0.9260        93500  0.7275        1.5998     0.4814       0.7746   \n",
       "...        ...          ...     ...           ...        ...          ...   \n",
       "407     0.8982        85694  0.7183        1.7384     0.2958       0.7178   \n",
       "1534    0.9635        87492  0.7257        2.0764     0.7286       0.6865   \n",
       "747     0.8608       101085  0.6469        1.4953     0.3524       0.7681   \n",
       "389     0.9252        82410  0.6910        1.8060     0.7272       0.7288   \n",
       "864     0.9290        77489  0.6628        2.1413     0.4430       0.6671   \n",
       "\n",
       "      SHAPEFACTOR_1  SHAPEFACTOR_2  SHAPEFACTOR_3  SHAPEFACTOR_4  \\\n",
       "1198         0.0057         0.0028         0.4906         0.9850   \n",
       "1224         0.0064         0.0036         0.4896         0.8826   \n",
       "1214         0.0057         0.0032         0.5394         0.9640   \n",
       "433          0.0048         0.0033         0.6334         0.9214   \n",
       "188          0.0050         0.0031         0.6000         0.9599   \n",
       "...             ...            ...            ...            ...   \n",
       "407          0.0057         0.0033         0.5153         0.8958   \n",
       "1534         0.0057         0.0027         0.4713         0.9786   \n",
       "747          0.0050         0.0033         0.5900         0.8823   \n",
       "389          0.0056         0.0031         0.5312         0.9594   \n",
       "864          0.0063         0.0029         0.4451         0.9530   \n",
       "\n",
       "                  Class  \n",
       "1198  Kirmizi_Pistachio  \n",
       "1224  Kirmizi_Pistachio  \n",
       "1214  Kirmizi_Pistachio  \n",
       "433      Siit_Pistachio  \n",
       "188      Siit_Pistachio  \n",
       "...                 ...  \n",
       "407   Kirmizi_Pistachio  \n",
       "1534  Kirmizi_Pistachio  \n",
       "747      Siit_Pistachio  \n",
       "389   Kirmizi_Pistachio  \n",
       "864   Kirmizi_Pistachio  \n",
       "\n",
       "[1718 rows x 17 columns]"
      ]
     },
     "execution_count": 3,
     "metadata": {},
     "output_type": "execute_result"
    }
   ],
   "source": [
    "df"
   ]
  },
  {
   "attachments": {},
   "cell_type": "markdown",
   "metadata": {},
   "source": [
    "#### Разделение данных"
   ]
  },
  {
   "cell_type": "code",
   "execution_count": 4,
   "metadata": {},
   "outputs": [],
   "source": [
    "x = df.drop(['Class'], axis=1)\n",
    "y = df['Class']"
   ]
  },
  {
   "cell_type": "code",
   "execution_count": 5,
   "metadata": {},
   "outputs": [],
   "source": [
    "xTraining, xTest, yTraining, yTest = train_test_split(x, y, test_size = 0.3, random_state=42)"
   ]
  },
  {
   "cell_type": "code",
   "execution_count": 6,
   "metadata": {},
   "outputs": [],
   "source": [
    "scaler = StandardScaler()\n",
    "scaler.fit(xTraining)\n",
    "xTrainingTransf = scaler.transform(xTraining)\n",
    "xTestTransf = scaler.transform(xTest)"
   ]
  },
  {
   "attachments": {},
   "cell_type": "markdown",
   "metadata": {},
   "source": [
    "#### Многослойный перцептрон"
   ]
  },
  {
   "cell_type": "code",
   "execution_count": 7,
   "metadata": {},
   "outputs": [],
   "source": [
    "def calculateAccuracy(mlpcClf: MLPClassifier):\n",
    "    mlpcClf.fit(xTrainingTransf, yTraining)\n",
    "    return mlpcClf.score(xTestTransf, yTest)"
   ]
  },
  {
   "attachments": {},
   "cell_type": "markdown",
   "metadata": {},
   "source": [
    "##### Количество нейронов на 1 уровне"
   ]
  },
  {
   "cell_type": "code",
   "execution_count": 8,
   "metadata": {},
   "outputs": [
    {
     "name": "stdout",
     "output_type": "stream",
     "text": [
      "layerSize=(60,), accuracy=0.8468992248062015\n",
      "layerSize=(100,), accuracy=0.8837209302325582\n",
      "layerSize=(150,), accuracy=0.8410852713178295\n",
      "layerSize=(200,), accuracy=0.8643410852713178\n",
      "layerSize=(250,), accuracy=0.8565891472868217\n",
      "layerSize=(350,), accuracy=0.8527131782945736\n",
      "layerSize=(500,), accuracy=0.8643410852713178\n",
      "layerSize=(750,), accuracy=0.8682170542635659\n",
      "layerSize=(1000,), accuracy=0.8682170542635659\n"
     ]
    }
   ],
   "source": [
    "hiddenLayerSizeArr = [(60,), (100,), (150,), (200,), (250,), (350,), (500,), (750,), (1000,)]\n",
    ", max_iter=200\n",
    "\n",
    "for layerSize in hiddenLayerSizeArr:\n",
    "    mlpcClf = MLPClassifier(\n",
    "        solver='lbfgs',\n",
    "        hidden_layer_sizes=layerSize, \n",
    "        early_stopping=True,\n",
    "        random_state=42)\n",
    "    print('layerSize={0}, accuracy={1}'.format(layerSize, calculateAccuracy(mlpcClf)))"
   ]
  },
  {
   "cell_type": "code",
   "execution_count": 9,
   "metadata": {},
   "outputs": [
    {
     "name": "stdout",
     "output_type": "stream",
     "text": [
      "solver=lbfgs, accuracy=0.8410852713178295\n",
      "solver=sgd, accuracy=0.8662790697674418\n",
      "solver=adam, accuracy=0.872093023255814\n"
     ]
    }
   ],
   "source": [
    "# Оптимизатор\n",
    "solverArr = ['lbfgs', 'sgd', 'adam']\n",
    "\n",
    "for solver in solverArr:\n",
    "    mlpcClf = MLPClassifier(\n",
    "        solver=solver,\n",
    "        hidden_layer_sizes=(150,), \n",
    "        early_stopping=True,\n",
    "        random_state=42)\n",
    "    print('solver={0}, accuracy={1}'.format(solver, calculateAccuracy(mlpcClf)))"
   ]
  },
  {
   "cell_type": "code",
   "execution_count": 10,
   "metadata": {},
   "outputs": [
    {
     "name": "stdout",
     "output_type": "stream",
     "text": [
      "f=identity, accuracy=0.8798449612403101\n",
      "f=logistic, accuracy=0.8236434108527132\n",
      "f=tanh, accuracy=0.8449612403100775\n",
      "f=relu, accuracy=0.8410852713178295\n"
     ]
    }
   ],
   "source": [
    "fArr = ['identity', 'logistic', 'tanh', 'relu']\n",
    "\n",
    "for f in fArr:\n",
    "    mlpcClf = MLPClassifier(\n",
    "        activation=f,\n",
    "        solver='lbfgs',\n",
    "        hidden_layer_sizes=(150,), \n",
    "        early_stopping=True,\n",
    "        random_state=42)\n",
    "    print('f={0}, accuracy={1}'.format(f, calculateAccuracy(mlpcClf)))"
   ]
  },
  {
   "cell_type": "code",
   "execution_count": 11,
   "metadata": {},
   "outputs": [
    {
     "name": "stdout",
     "output_type": "stream",
     "text": [
      "max_iter=200, accuracy=0.8410852713178295\n",
      "max_iter=500, accuracy=0.8410852713178295\n",
      "max_iter=700, accuracy=0.8410852713178295\n",
      "max_iter=1000, accuracy=0.8410852713178295\n"
     ]
    }
   ],
   "source": [
    "iterArr = [200, 500, 700, 1000]\n",
    "\n",
    "for iter in iterArr:\n",
    "    mlpcClf = MLPClassifier(\n",
    "        activation='relu',\n",
    "        solver='lbfgs',\n",
    "        hidden_layer_sizes=(150,), \n",
    "        early_stopping=True,\n",
    "        random_state=42,\n",
    "        max_iter=iter)\n",
    "    print('max_iter={0}, accuracy={1}'.format(iter, calculateAccuracy(mlpcClf)))"
   ]
  },
  {
   "cell_type": "code",
   "execution_count": 12,
   "metadata": {},
   "outputs": [
    {
     "name": "stdout",
     "output_type": "stream",
     "text": [
      "accuracy=0.8410852713178295\n"
     ]
    }
   ],
   "source": [
    "mlpcClf = MLPClassifier(\n",
    "        activation='relu',\n",
    "        solver='lbfgs',\n",
    "        hidden_layer_sizes=(150,), \n",
    "        early_stopping=True,\n",
    "        random_state=42,\n",
    "        max_iter=200)\n",
    "print('accuracy={0}'.format(calculateAccuracy(mlpcClf)))"
   ]
  },
  {
   "cell_type": "code",
   "execution_count": 13,
   "metadata": {},
   "outputs": [
    {
     "data": {
      "image/png": "[encoded data removed]",
      "text/plain": [
       "<Figure size 640x480 with 2 Axes>"
      ]
     },
     "metadata": {},
     "output_type": "display_data"
    }
   ],
   "source": [
    "classes_names = ['0','1']\n",
    "cm = pd.DataFrame(confusion_matrix(yTest, mlpcClf.predict(xTestTransf)), columns=classes_names, index = classes_names)\n",
    "                  \n",
    "sns.heatmap(cm, annot=True, fmt='d', cmap=\"BuPu\")\n",
    "plt.show()"
   ]
  },
  {
   "cell_type": "code",
   "execution_count": null,
   "metadata": {},
   "outputs": [],
   "source": []
  }
 ],
 "metadata": {
  "kernelspec": {
   "display_name": "Python 3 (ipykernel)",
   "language": "python",
   "name": "python3"
  },
  "language_info": {
   "codemirror_mode": {
    "name": "ipython",
    "version": 3
   },
   "file_extension": ".py",
   "mimetype": "text/x-python",
   "name": "python",
   "nbconvert_exporter": "python",
   "pygments_lexer": "ipython3",
   "version": "3.12.3"
  }
 },
 "nbformat": 4,
 "nbformat_minor": 4
}
