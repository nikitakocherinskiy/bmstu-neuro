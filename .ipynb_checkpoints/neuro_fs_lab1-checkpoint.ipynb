{
  "cells": [
    {
      "cell_type": "markdown",
      "id": "824850bf",
      "metadata": {
        "papermill": {
          "duration": 0.036082,
          "end_time": "2022-05-05T08:30:38.221365",
          "exception": false,
          "start_time": "2022-05-05T08:30:38.185283",
          "status": "completed"
        },
        "tags": [],
        "id": "824850bf"
      },
      "source": [
        "# Лабораторная работа 1"
      ]
    },
    {
      "cell_type": "markdown",
      "id": "3595325f",
      "metadata": {
        "papermill": {
          "duration": 0.033716,
          "end_time": "2022-05-05T08:30:38.423664",
          "exception": false,
          "start_time": "2022-05-05T08:30:38.389948",
          "status": "completed"
        },
        "tags": [],
        "id": "3595325f"
      },
      "source": [
        "# Импорт"
      ]
    },
    {
      "cell_type": "code",
      "execution_count": null,
      "id": "ae11715d",
      "metadata": {
        "execution": {
          "iopub.execute_input": "2022-05-05T08:30:38.497719Z",
          "iopub.status.busy": "2022-05-05T08:30:38.496418Z",
          "iopub.status.idle": "2022-05-05T08:31:10.265114Z",
          "shell.execute_reply": "2022-05-05T08:31:10.265693Z",
          "shell.execute_reply.started": "2022-03-24T16:29:36.359814Z"
        },
        "papermill": {
          "duration": 31.809118,
          "end_time": "2022-05-05T08:31:10.266172",
          "exception": false,
          "start_time": "2022-05-05T08:30:38.457054",
          "status": "completed"
        },
        "tags": [],
        "id": "ae11715d"
      },
      "outputs": [],
      "source": [
        "import numpy as np\n",
        "import pandas as pd\n",
        "pd.plotting.register_matplotlib_converters()\n",
        "import matplotlib.pyplot as plt\n",
        "%matplotlib inline\n",
        "import seaborn as sns\n",
        "sns.set(style='darkgrid', font_scale=1.4)\n",
        "import plotly.express as px\n",
        "\n",
        "from sklearn.decomposition import PCA\n",
        "from sklearn.manifold import TSNE\n",
        "from sklearn.discriminant_analysis import LinearDiscriminantAnalysis as LDA\n",
        "from sklearn.cluster import KMeans\n",
        "from sklearn.preprocessing import StandardScaler"
      ]
    },
    {
      "cell_type": "markdown",
      "id": "f1e6799c",
      "metadata": {
        "papermill": {
          "duration": 0.034181,
          "end_time": "2022-05-05T08:31:10.335211",
          "exception": false,
          "start_time": "2022-05-05T08:31:10.301030",
          "status": "completed"
        },
        "tags": [],
        "id": "f1e6799c"
      },
      "source": [
        "# Data"
      ]
    },
    {
      "cell_type": "markdown",
      "id": "b07ff989",
      "metadata": {
        "papermill": {
          "duration": 0.033707,
          "end_time": "2022-05-05T08:31:10.402589",
          "exception": false,
          "start_time": "2022-05-05T08:31:10.368882",
          "status": "completed"
        },
        "tags": [],
        "id": "b07ff989"
      },
      "source": [
        "Датасет представляет собой набор данных о винах, содержит 13 признаков, описывающих 3 различных типа вина.\n"
      ]
    },
    {
      "cell_type": "code",
      "execution_count": null,
      "id": "9eb4fc9b",
      "metadata": {
        "_kg_hide-input": false,
        "execution": {
          "iopub.execute_input": "2022-05-05T08:31:10.475399Z",
          "iopub.status.busy": "2022-05-05T08:31:10.474548Z",
          "iopub.status.idle": "2022-05-05T08:31:10.524246Z",
          "shell.execute_reply": "2022-05-05T08:31:10.524919Z",
          "shell.execute_reply.started": "2022-03-24T16:30:08.163289Z"
        },
        "papermill": {
          "duration": 0.088126,
          "end_time": "2022-05-05T08:31:10.525108",
          "exception": false,
          "start_time": "2022-05-05T08:31:10.436982",
          "status": "completed"
        },
        "tags": [],
        "colab": {
          "base_uri": "https://localhost:8080/",
          "height": 243
        },
        "id": "9eb4fc9b",
        "outputId": "ff9ae991-ca24-4ec1-f97f-3c38bba446a1"
      },
      "outputs": [
        {
          "output_type": "stream",
          "name": "stdout",
          "text": [
            "Dataframe dimensions: (178, 13)\n"
          ]
        },
        {
          "output_type": "execute_result",
          "data": {
            "text/plain": [
              "   Alcohol  Malic_Acid   Ash  Ash_Alcanity  Magnesium  Total_Phenols  \\\n",
              "0    14.23        1.71  2.43          15.6        127           2.80   \n",
              "1    13.20        1.78  2.14          11.2        100           2.65   \n",
              "2    13.16        2.36  2.67          18.6        101           2.80   \n",
              "3    14.37        1.95  2.50          16.8        113           3.85   \n",
              "4    13.24        2.59  2.87          21.0        118           2.80   \n",
              "\n",
              "   Flavanoids  Nonflavanoid_Phenols  Proanthocyanins  Color_Intensity   Hue  \\\n",
              "0        3.06                  0.28             2.29             5.64  1.04   \n",
              "1        2.76                  0.26             1.28             4.38  1.05   \n",
              "2        3.24                  0.30             2.81             5.68  1.03   \n",
              "3        3.49                  0.24             2.18             7.80  0.86   \n",
              "4        2.69                  0.39             1.82             4.32  1.04   \n",
              "\n",
              "   OD280  Proline  \n",
              "0   3.92     1065  \n",
              "1   3.40     1050  \n",
              "2   3.17     1185  \n",
              "3   3.45     1480  \n",
              "4   2.93      735  "
            ],
            "text/html": [
              "\n",
              "  <div id=\"df-a4fb852c-cb6a-4aea-8bef-10e079256c6a\" class=\"colab-df-container\">\n",
              "    <div>\n",
              "<style scoped>\n",
              "    .dataframe tbody tr th:only-of-type {\n",
              "        vertical-align: middle;\n",
              "    }\n",
              "\n",
              "    .dataframe tbody tr th {\n",
              "        vertical-align: top;\n",
              "    }\n",
              "\n",
              "    .dataframe thead th {\n",
              "        text-align: right;\n",
              "    }\n",
              "</style>\n",
              "<table border=\"1\" class=\"dataframe\">\n",
              "  <thead>\n",
              "    <tr style=\"text-align: right;\">\n",
              "      <th></th>\n",
              "      <th>Alcohol</th>\n",
              "      <th>Malic_Acid</th>\n",
              "      <th>Ash</th>\n",
              "      <th>Ash_Alcanity</th>\n",
              "      <th>Magnesium</th>\n",
              "      <th>Total_Phenols</th>\n",
              "      <th>Flavanoids</th>\n",
              "      <th>Nonflavanoid_Phenols</th>\n",
              "      <th>Proanthocyanins</th>\n",
              "      <th>Color_Intensity</th>\n",
              "      <th>Hue</th>\n",
              "      <th>OD280</th>\n",
              "      <th>Proline</th>\n",
              "    </tr>\n",
              "  </thead>\n",
              "  <tbody>\n",
              "    <tr>\n",
              "      <th>0</th>\n",
              "      <td>14.23</td>\n",
              "      <td>1.71</td>\n",
              "      <td>2.43</td>\n",
              "      <td>15.6</td>\n",
              "      <td>127</td>\n",
              "      <td>2.80</td>\n",
              "      <td>3.06</td>\n",
              "      <td>0.28</td>\n",
              "      <td>2.29</td>\n",
              "      <td>5.64</td>\n",
              "      <td>1.04</td>\n",
              "      <td>3.92</td>\n",
              "      <td>1065</td>\n",
              "    </tr>\n",
              "    <tr>\n",
              "      <th>1</th>\n",
              "      <td>13.20</td>\n",
              "      <td>1.78</td>\n",
              "      <td>2.14</td>\n",
              "      <td>11.2</td>\n",
              "      <td>100</td>\n",
              "      <td>2.65</td>\n",
              "      <td>2.76</td>\n",
              "      <td>0.26</td>\n",
              "      <td>1.28</td>\n",
              "      <td>4.38</td>\n",
              "      <td>1.05</td>\n",
              "      <td>3.40</td>\n",
              "      <td>1050</td>\n",
              "    </tr>\n",
              "    <tr>\n",
              "      <th>2</th>\n",
              "      <td>13.16</td>\n",
              "      <td>2.36</td>\n",
              "      <td>2.67</td>\n",
              "      <td>18.6</td>\n",
              "      <td>101</td>\n",
              "      <td>2.80</td>\n",
              "      <td>3.24</td>\n",
              "      <td>0.30</td>\n",
              "      <td>2.81</td>\n",
              "      <td>5.68</td>\n",
              "      <td>1.03</td>\n",
              "      <td>3.17</td>\n",
              "      <td>1185</td>\n",
              "    </tr>\n",
              "    <tr>\n",
              "      <th>3</th>\n",
              "      <td>14.37</td>\n",
              "      <td>1.95</td>\n",
              "      <td>2.50</td>\n",
              "      <td>16.8</td>\n",
              "      <td>113</td>\n",
              "      <td>3.85</td>\n",
              "      <td>3.49</td>\n",
              "      <td>0.24</td>\n",
              "      <td>2.18</td>\n",
              "      <td>7.80</td>\n",
              "      <td>0.86</td>\n",
              "      <td>3.45</td>\n",
              "      <td>1480</td>\n",
              "    </tr>\n",
              "    <tr>\n",
              "      <th>4</th>\n",
              "      <td>13.24</td>\n",
              "      <td>2.59</td>\n",
              "      <td>2.87</td>\n",
              "      <td>21.0</td>\n",
              "      <td>118</td>\n",
              "      <td>2.80</td>\n",
              "      <td>2.69</td>\n",
              "      <td>0.39</td>\n",
              "      <td>1.82</td>\n",
              "      <td>4.32</td>\n",
              "      <td>1.04</td>\n",
              "      <td>2.93</td>\n",
              "      <td>735</td>\n",
              "    </tr>\n",
              "  </tbody>\n",
              "</table>\n",
              "</div>\n",
              "    <div class=\"colab-df-buttons\">\n",
              "\n",
              "  <div class=\"colab-df-container\">\n",
              "    <button class=\"colab-df-convert\" onclick=\"convertToInteractive('df-a4fb852c-cb6a-4aea-8bef-10e079256c6a')\"\n",
              "            title=\"Convert this dataframe to an interactive table.\"\n",
              "            style=\"display:none;\">\n",
              "\n",
              "  <svg xmlns=\"http://www.w3.org/2000/svg\" height=\"24px\" viewBox=\"0 -960 960 960\">\n",
              "    <path d=\"M120-120v-720h720v720H120Zm60-500h600v-160H180v160Zm220 220h160v-160H400v160Zm0 220h160v-160H400v160ZM180-400h160v-160H180v160Zm440 0h160v-160H620v160ZM180-180h160v-160H180v160Zm440 0h160v-160H620v160Z\"/>\n",
              "  </svg>\n",
              "    </button>\n",
              "\n",
              "  <style>\n",
              "    .colab-df-container {\n",
              "      display:flex;\n",
              "      gap: 12px;\n",
              "    }\n",
              "\n",
              "    .colab-df-convert {\n",
              "      background-color: #E8F0FE;\n",
              "      border: none;\n",
              "      border-radius: 50%;\n",
              "      cursor: pointer;\n",
              "      display: none;\n",
              "      fill: #1967D2;\n",
              "      height: 32px;\n",
              "      padding: 0 0 0 0;\n",
              "      width: 32px;\n",
              "    }\n",
              "\n",
              "    .colab-df-convert:hover {\n",
              "      background-color: #E2EBFA;\n",
              "      box-shadow: 0px 1px 2px rgba(60, 64, 67, 0.3), 0px 1px 3px 1px rgba(60, 64, 67, 0.15);\n",
              "      fill: #174EA6;\n",
              "    }\n",
              "\n",
              "    .colab-df-buttons div {\n",
              "      margin-bottom: 4px;\n",
              "    }\n",
              "\n",
              "    [theme=dark] .colab-df-convert {\n",
              "      background-color: #3B4455;\n",
              "      fill: #D2E3FC;\n",
              "    }\n",
              "\n",
              "    [theme=dark] .colab-df-convert:hover {\n",
              "      background-color: #434B5C;\n",
              "      box-shadow: 0px 1px 3px 1px rgba(0, 0, 0, 0.15);\n",
              "      filter: drop-shadow(0px 1px 2px rgba(0, 0, 0, 0.3));\n",
              "      fill: #FFFFFF;\n",
              "    }\n",
              "  </style>\n",
              "\n",
              "    <script>\n",
              "      const buttonEl =\n",
              "        document.querySelector('#df-a4fb852c-cb6a-4aea-8bef-10e079256c6a button.colab-df-convert');\n",
              "      buttonEl.style.display =\n",
              "        google.colab.kernel.accessAllowed ? 'block' : 'none';\n",
              "\n",
              "      async function convertToInteractive(key) {\n",
              "        const element = document.querySelector('#df-a4fb852c-cb6a-4aea-8bef-10e079256c6a');\n",
              "        const dataTable =\n",
              "          await google.colab.kernel.invokeFunction('convertToInteractive',\n",
              "                                                    [key], {});\n",
              "        if (!dataTable) return;\n",
              "\n",
              "        const docLinkHtml = 'Like what you see? Visit the ' +\n",
              "          '<a target=\"_blank\" href=https://colab.research.google.com/notebooks/data_table.ipynb>data table notebook</a>'\n",
              "          + ' to learn more about interactive tables.';\n",
              "        element.innerHTML = '';\n",
              "        dataTable['output_type'] = 'display_data';\n",
              "        await google.colab.output.renderOutput(dataTable, element);\n",
              "        const docLink = document.createElement('div');\n",
              "        docLink.innerHTML = docLinkHtml;\n",
              "        element.appendChild(docLink);\n",
              "      }\n",
              "    </script>\n",
              "  </div>\n",
              "\n",
              "\n",
              "<div id=\"df-a200e0ac-4431-4100-a185-ad0c2c1da077\">\n",
              "  <button class=\"colab-df-quickchart\" onclick=\"quickchart('df-a200e0ac-4431-4100-a185-ad0c2c1da077')\"\n",
              "            title=\"Suggest charts\"\n",
              "            style=\"display:none;\">\n",
              "\n",
              "<svg xmlns=\"http://www.w3.org/2000/svg\" height=\"24px\"viewBox=\"0 0 24 24\"\n",
              "     width=\"24px\">\n",
              "    <g>\n",
              "        <path d=\"M19 3H5c-1.1 0-2 .9-2 2v14c0 1.1.9 2 2 2h14c1.1 0 2-.9 2-2V5c0-1.1-.9-2-2-2zM9 17H7v-7h2v7zm4 0h-2V7h2v10zm4 0h-2v-4h2v4z\"/>\n",
              "    </g>\n",
              "</svg>\n",
              "  </button>\n",
              "\n",
              "<style>\n",
              "  .colab-df-quickchart {\n",
              "      --bg-color: #E8F0FE;\n",
              "      --fill-color: #1967D2;\n",
              "      --hover-bg-color: #E2EBFA;\n",
              "      --hover-fill-color: #174EA6;\n",
              "      --disabled-fill-color: #AAA;\n",
              "      --disabled-bg-color: #DDD;\n",
              "  }\n",
              "\n",
              "  [theme=dark] .colab-df-quickchart {\n",
              "      --bg-color: #3B4455;\n",
              "      --fill-color: #D2E3FC;\n",
              "      --hover-bg-color: #434B5C;\n",
              "      --hover-fill-color: #FFFFFF;\n",
              "      --disabled-bg-color: #3B4455;\n",
              "      --disabled-fill-color: #666;\n",
              "  }\n",
              "\n",
              "  .colab-df-quickchart {\n",
              "    background-color: var(--bg-color);\n",
              "    border: none;\n",
              "    border-radius: 50%;\n",
              "    cursor: pointer;\n",
              "    display: none;\n",
              "    fill: var(--fill-color);\n",
              "    height: 32px;\n",
              "    padding: 0;\n",
              "    width: 32px;\n",
              "  }\n",
              "\n",
              "  .colab-df-quickchart:hover {\n",
              "    background-color: var(--hover-bg-color);\n",
              "    box-shadow: 0 1px 2px rgba(60, 64, 67, 0.3), 0 1px 3px 1px rgba(60, 64, 67, 0.15);\n",
              "    fill: var(--button-hover-fill-color);\n",
              "  }\n",
              "\n",
              "  .colab-df-quickchart-complete:disabled,\n",
              "  .colab-df-quickchart-complete:disabled:hover {\n",
              "    background-color: var(--disabled-bg-color);\n",
              "    fill: var(--disabled-fill-color);\n",
              "    box-shadow: none;\n",
              "  }\n",
              "\n",
              "  .colab-df-spinner {\n",
              "    border: 2px solid var(--fill-color);\n",
              "    border-color: transparent;\n",
              "    border-bottom-color: var(--fill-color);\n",
              "    animation:\n",
              "      spin 1s steps(1) infinite;\n",
              "  }\n",
              "\n",
              "  @keyframes spin {\n",
              "    0% {\n",
              "      border-color: transparent;\n",
              "      border-bottom-color: var(--fill-color);\n",
              "      border-left-color: var(--fill-color);\n",
              "    }\n",
              "    20% {\n",
              "      border-color: transparent;\n",
              "      border-left-color: var(--fill-color);\n",
              "      border-top-color: var(--fill-color);\n",
              "    }\n",
              "    30% {\n",
              "      border-color: transparent;\n",
              "      border-left-color: var(--fill-color);\n",
              "      border-top-color: var(--fill-color);\n",
              "      border-right-color: var(--fill-color);\n",
              "    }\n",
              "    40% {\n",
              "      border-color: transparent;\n",
              "      border-right-color: var(--fill-color);\n",
              "      border-top-color: var(--fill-color);\n",
              "    }\n",
              "    60% {\n",
              "      border-color: transparent;\n",
              "      border-right-color: var(--fill-color);\n",
              "    }\n",
              "    80% {\n",
              "      border-color: transparent;\n",
              "      border-right-color: var(--fill-color);\n",
              "      border-bottom-color: var(--fill-color);\n",
              "    }\n",
              "    90% {\n",
              "      border-color: transparent;\n",
              "      border-bottom-color: var(--fill-color);\n",
              "    }\n",
              "  }\n",
              "</style>\n",
              "\n",
              "  <script>\n",
              "    async function quickchart(key) {\n",
              "      const quickchartButtonEl =\n",
              "        document.querySelector('#' + key + ' button');\n",
              "      quickchartButtonEl.disabled = true;  // To prevent multiple clicks.\n",
              "      quickchartButtonEl.classList.add('colab-df-spinner');\n",
              "      try {\n",
              "        const charts = await google.colab.kernel.invokeFunction(\n",
              "            'suggestCharts', [key], {});\n",
              "      } catch (error) {\n",
              "        console.error('Error during call to suggestCharts:', error);\n",
              "      }\n",
              "      quickchartButtonEl.classList.remove('colab-df-spinner');\n",
              "      quickchartButtonEl.classList.add('colab-df-quickchart-complete');\n",
              "    }\n",
              "    (() => {\n",
              "      let quickchartButtonEl =\n",
              "        document.querySelector('#df-a200e0ac-4431-4100-a185-ad0c2c1da077 button');\n",
              "      quickchartButtonEl.style.display =\n",
              "        google.colab.kernel.accessAllowed ? 'block' : 'none';\n",
              "    })();\n",
              "  </script>\n",
              "</div>\n",
              "    </div>\n",
              "  </div>\n"
            ],
            "application/vnd.google.colaboratory.intrinsic+json": {
              "type": "dataframe",
              "variable_name": "data",
              "summary": "{\n  \"name\": \"data\",\n  \"rows\": 178,\n  \"fields\": [\n    {\n      \"column\": \"Alcohol\",\n      \"properties\": {\n        \"dtype\": \"number\",\n        \"std\": 0.8118265380058575,\n        \"min\": 11.03,\n        \"max\": 14.83,\n        \"num_unique_values\": 126,\n        \"samples\": [\n          11.62,\n          13.64,\n          13.69\n        ],\n        \"semantic_type\": \"\",\n        \"description\": \"\"\n      }\n    },\n    {\n      \"column\": \"Malic_Acid\",\n      \"properties\": {\n        \"dtype\": \"number\",\n        \"std\": 1.1171460976144627,\n        \"min\": 0.74,\n        \"max\": 5.8,\n        \"num_unique_values\": 133,\n        \"samples\": [\n          1.21,\n          2.83,\n          1.8\n        ],\n        \"semantic_type\": \"\",\n        \"description\": \"\"\n      }\n    },\n    {\n      \"column\": \"Ash\",\n      \"properties\": {\n        \"dtype\": \"number\",\n        \"std\": 0.27434400906081485,\n        \"min\": 1.36,\n        \"max\": 3.23,\n        \"num_unique_values\": 79,\n        \"samples\": [\n          2.31,\n          2.43,\n          2.52\n        ],\n        \"semantic_type\": \"\",\n        \"description\": \"\"\n      }\n    },\n    {\n      \"column\": \"Ash_Alcanity\",\n      \"properties\": {\n        \"dtype\": \"number\",\n        \"std\": 3.339563767173505,\n        \"min\": 10.6,\n        \"max\": 30.0,\n        \"num_unique_values\": 63,\n        \"samples\": [\n          25.5,\n          28.5,\n          15.6\n        ],\n        \"semantic_type\": \"\",\n        \"description\": \"\"\n      }\n    },\n    {\n      \"column\": \"Magnesium\",\n      \"properties\": {\n        \"dtype\": \"number\",\n        \"std\": 14,\n        \"min\": 70,\n        \"max\": 162,\n        \"num_unique_values\": 53,\n        \"samples\": [\n          126,\n          85,\n          162\n        ],\n        \"semantic_type\": \"\",\n        \"description\": \"\"\n      }\n    },\n    {\n      \"column\": \"Total_Phenols\",\n      \"properties\": {\n        \"dtype\": \"number\",\n        \"std\": 0.6258510488339893,\n        \"min\": 0.98,\n        \"max\": 3.88,\n        \"num_unique_values\": 97,\n        \"samples\": [\n          1.68,\n          2.11,\n          1.35\n        ],\n        \"semantic_type\": \"\",\n        \"description\": \"\"\n      }\n    },\n    {\n      \"column\": \"Flavanoids\",\n      \"properties\": {\n        \"dtype\": \"number\",\n        \"std\": 0.9988586850169467,\n        \"min\": 0.34,\n        \"max\": 5.08,\n        \"num_unique_values\": 132,\n        \"samples\": [\n          3.18,\n          2.5,\n          3.17\n        ],\n        \"semantic_type\": \"\",\n        \"description\": \"\"\n      }\n    },\n    {\n      \"column\": \"Nonflavanoid_Phenols\",\n      \"properties\": {\n        \"dtype\": \"number\",\n        \"std\": 0.12445334029667937,\n        \"min\": 0.13,\n        \"max\": 0.66,\n        \"num_unique_values\": 39,\n        \"samples\": [\n          0.58,\n          0.41,\n          0.39\n        ],\n        \"semantic_type\": \"\",\n        \"description\": \"\"\n      }\n    },\n    {\n      \"column\": \"Proanthocyanins\",\n      \"properties\": {\n        \"dtype\": \"number\",\n        \"std\": 0.5723588626747613,\n        \"min\": 0.41,\n        \"max\": 3.58,\n        \"num_unique_values\": 101,\n        \"samples\": [\n          0.75,\n          1.77,\n          1.42\n        ],\n        \"semantic_type\": \"\",\n        \"description\": \"\"\n      }\n    },\n    {\n      \"column\": \"Color_Intensity\",\n      \"properties\": {\n        \"dtype\": \"number\",\n        \"std\": 2.318285871822413,\n        \"min\": 1.28,\n        \"max\": 13.0,\n        \"num_unique_values\": 132,\n        \"samples\": [\n          2.95,\n          3.3,\n          5.1\n        ],\n        \"semantic_type\": \"\",\n        \"description\": \"\"\n      }\n    },\n    {\n      \"column\": \"Hue\",\n      \"properties\": {\n        \"dtype\": \"number\",\n        \"std\": 0.22857156582982338,\n        \"min\": 0.48,\n        \"max\": 1.71,\n        \"num_unique_values\": 78,\n        \"samples\": [\n          1.22,\n          1.04,\n          1.45\n        ],\n        \"semantic_type\": \"\",\n        \"description\": \"\"\n      }\n    },\n    {\n      \"column\": \"OD280\",\n      \"properties\": {\n        \"dtype\": \"number\",\n        \"std\": 0.7099904287650504,\n        \"min\": 1.27,\n        \"max\": 4.0,\n        \"num_unique_values\": 122,\n        \"samples\": [\n          4.0,\n          1.82,\n          1.59\n        ],\n        \"semantic_type\": \"\",\n        \"description\": \"\"\n      }\n    },\n    {\n      \"column\": \"Proline\",\n      \"properties\": {\n        \"dtype\": \"number\",\n        \"std\": 314,\n        \"min\": 278,\n        \"max\": 1680,\n        \"num_unique_values\": 121,\n        \"samples\": [\n          1375,\n          1270,\n          735\n        ],\n        \"semantic_type\": \"\",\n        \"description\": \"\"\n      }\n    }\n  ]\n}"
            }
          },
          "metadata": {},
          "execution_count": 223
        }
      ],
      "source": [
        "data=pd.read_csv('./wine-clustering.csv')\n",
        "\n",
        "print('Dataframe dimensions:',data.shape)\n",
        "\n",
        "data.head()"
      ]
    },
    {
      "cell_type": "markdown",
      "id": "a3c92f61",
      "metadata": {
        "papermill": {
          "duration": 0.034074,
          "end_time": "2022-05-05T08:31:10.596651",
          "exception": false,
          "start_time": "2022-05-05T08:31:10.562577",
          "status": "completed"
        },
        "tags": [],
        "id": "a3c92f61"
      },
      "source": [
        "**EDA**"
      ]
    },
    {
      "cell_type": "code",
      "execution_count": null,
      "id": "d10e671e",
      "metadata": {
        "execution": {
          "iopub.execute_input": "2022-05-05T08:31:10.740540Z",
          "iopub.status.busy": "2022-05-05T08:31:10.739779Z",
          "iopub.status.idle": "2022-05-05T08:31:10.759063Z",
          "shell.execute_reply": "2022-05-05T08:31:10.759593Z",
          "shell.execute_reply.started": "2022-03-24T16:30:08.220577Z"
        },
        "papermill": {
          "duration": 0.128117,
          "end_time": "2022-05-05T08:31:10.759785",
          "exception": false,
          "start_time": "2022-05-05T08:31:10.631668",
          "status": "completed"
        },
        "tags": [],
        "colab": {
          "base_uri": "https://localhost:8080/"
        },
        "id": "d10e671e",
        "outputId": "18b0c909-f979-4897-8856-d33318679b85"
      },
      "outputs": [
        {
          "output_type": "stream",
          "name": "stdout",
          "text": [
            "Missing values in dataset: 0\n",
            "\n",
            "Duplicates in dataset: 0, (0.0%)\n",
            "\n",
            "Data types: [dtype('float64') dtype('int64')]\n"
          ]
        }
      ],
      "source": [
        "print(f'Missing values in dataset: {data.isna().sum().sum()}')\n",
        "print('')\n",
        "print(f'Duplicates in dataset: {data.duplicated().sum()}, ({np.round(100*data.duplicated().sum()/len(data),1)}%)')\n",
        "print('')\n",
        "print(f'Data types: {data.dtypes.unique()}')"
      ]
    },
    {
      "cell_type": "markdown",
      "id": "940abd3a",
      "metadata": {
        "papermill": {
          "duration": 0.034449,
          "end_time": "2022-05-05T08:31:10.830051",
          "exception": false,
          "start_time": "2022-05-05T08:31:10.795602",
          "status": "completed"
        },
        "tags": [],
        "id": "940abd3a"
      },
      "source": [
        "**Preprocessing**"
      ]
    },
    {
      "cell_type": "code",
      "execution_count": null,
      "id": "bb889386",
      "metadata": {
        "execution": {
          "iopub.execute_input": "2022-05-05T08:31:10.975439Z",
          "iopub.status.busy": "2022-05-05T08:31:10.974717Z",
          "iopub.status.idle": "2022-05-05T08:31:10.985382Z",
          "shell.execute_reply": "2022-05-05T08:31:10.984296Z",
          "shell.execute_reply.started": "2022-03-24T16:30:08.251724Z"
        },
        "papermill": {
          "duration": 0.049067,
          "end_time": "2022-05-05T08:31:10.985586",
          "exception": false,
          "start_time": "2022-05-05T08:31:10.936519",
          "status": "completed"
        },
        "tags": [],
        "id": "bb889386"
      },
      "outputs": [],
      "source": [
        "# Масштабируем каждый столбец, среднее значение = 0, стандартное отклонение = 1.\n",
        "SS=StandardScaler()\n",
        "\n",
        "X=pd.DataFrame(SS.fit_transform(data), columns=data.columns)"
      ]
    },
    {
      "cell_type": "markdown",
      "id": "d278b9dc",
      "metadata": {
        "papermill": {
          "duration": 0.036332,
          "end_time": "2022-05-05T08:31:11.057067",
          "exception": false,
          "start_time": "2022-05-05T08:31:11.020735",
          "status": "completed"
        },
        "tags": [],
        "id": "d278b9dc"
      },
      "source": [
        "# PCA"
      ]
    },
    {
      "cell_type": "code",
      "execution_count": null,
      "id": "59659736",
      "metadata": {
        "_kg_hide-input": false,
        "execution": {
          "iopub.execute_input": "2022-05-05T08:31:11.203103Z",
          "iopub.status.busy": "2022-05-05T08:31:11.202372Z",
          "iopub.status.idle": "2022-05-05T08:31:11.225683Z",
          "shell.execute_reply": "2022-05-05T08:31:11.226323Z",
          "shell.execute_reply.started": "2022-03-24T16:30:08.264004Z"
        },
        "papermill": {
          "duration": 0.062621,
          "end_time": "2022-05-05T08:31:11.226517",
          "exception": false,
          "start_time": "2022-05-05T08:31:11.163896",
          "status": "completed"
        },
        "tags": [],
        "colab": {
          "base_uri": "https://localhost:8080/",
          "height": 223
        },
        "id": "59659736",
        "outputId": "4d89fefd-e83f-4787-f25b-5d2538546200"
      },
      "outputs": [
        {
          "output_type": "stream",
          "name": "stdout",
          "text": [
            "(178, 2)\n"
          ]
        },
        {
          "output_type": "execute_result",
          "data": {
            "text/plain": [
              "        PC1       PC2\n",
              "0  3.316751 -1.443463\n",
              "1  2.209465  0.333393\n",
              "2  2.516740 -1.031151\n",
              "3  3.757066 -2.756372\n",
              "4  1.008908 -0.869831"
            ],
            "text/html": [
              "\n",
              "  <div id=\"df-5f49c92d-fe57-4afc-a7d8-416593de15a8\" class=\"colab-df-container\">\n",
              "    <div>\n",
              "<style scoped>\n",
              "    .dataframe tbody tr th:only-of-type {\n",
              "        vertical-align: middle;\n",
              "    }\n",
              "\n",
              "    .dataframe tbody tr th {\n",
              "        vertical-align: top;\n",
              "    }\n",
              "\n",
              "    .dataframe thead th {\n",
              "        text-align: right;\n",
              "    }\n",
              "</style>\n",
              "<table border=\"1\" class=\"dataframe\">\n",
              "  <thead>\n",
              "    <tr style=\"text-align: right;\">\n",
              "      <th></th>\n",
              "      <th>PC1</th>\n",
              "      <th>PC2</th>\n",
              "    </tr>\n",
              "  </thead>\n",
              "  <tbody>\n",
              "    <tr>\n",
              "      <th>0</th>\n",
              "      <td>3.316751</td>\n",
              "      <td>-1.443463</td>\n",
              "    </tr>\n",
              "    <tr>\n",
              "      <th>1</th>\n",
              "      <td>2.209465</td>\n",
              "      <td>0.333393</td>\n",
              "    </tr>\n",
              "    <tr>\n",
              "      <th>2</th>\n",
              "      <td>2.516740</td>\n",
              "      <td>-1.031151</td>\n",
              "    </tr>\n",
              "    <tr>\n",
              "      <th>3</th>\n",
              "      <td>3.757066</td>\n",
              "      <td>-2.756372</td>\n",
              "    </tr>\n",
              "    <tr>\n",
              "      <th>4</th>\n",
              "      <td>1.008908</td>\n",
              "      <td>-0.869831</td>\n",
              "    </tr>\n",
              "  </tbody>\n",
              "</table>\n",
              "</div>\n",
              "    <div class=\"colab-df-buttons\">\n",
              "\n",
              "  <div class=\"colab-df-container\">\n",
              "    <button class=\"colab-df-convert\" onclick=\"convertToInteractive('df-5f49c92d-fe57-4afc-a7d8-416593de15a8')\"\n",
              "            title=\"Convert this dataframe to an interactive table.\"\n",
              "            style=\"display:none;\">\n",
              "\n",
              "  <svg xmlns=\"http://www.w3.org/2000/svg\" height=\"24px\" viewBox=\"0 -960 960 960\">\n",
              "    <path d=\"M120-120v-720h720v720H120Zm60-500h600v-160H180v160Zm220 220h160v-160H400v160Zm0 220h160v-160H400v160ZM180-400h160v-160H180v160Zm440 0h160v-160H620v160ZM180-180h160v-160H180v160Zm440 0h160v-160H620v160Z\"/>\n",
              "  </svg>\n",
              "    </button>\n",
              "\n",
              "  <style>\n",
              "    .colab-df-container {\n",
              "      display:flex;\n",
              "      gap: 12px;\n",
              "    }\n",
              "\n",
              "    .colab-df-convert {\n",
              "      background-color: #E8F0FE;\n",
              "      border: none;\n",
              "      border-radius: 50%;\n",
              "      cursor: pointer;\n",
              "      display: none;\n",
              "      fill: #1967D2;\n",
              "      height: 32px;\n",
              "      padding: 0 0 0 0;\n",
              "      width: 32px;\n",
              "    }\n",
              "\n",
              "    .colab-df-convert:hover {\n",
              "      background-color: #E2EBFA;\n",
              "      box-shadow: 0px 1px 2px rgba(60, 64, 67, 0.3), 0px 1px 3px 1px rgba(60, 64, 67, 0.15);\n",
              "      fill: #174EA6;\n",
              "    }\n",
              "\n",
              "    .colab-df-buttons div {\n",
              "      margin-bottom: 4px;\n",
              "    }\n",
              "\n",
              "    [theme=dark] .colab-df-convert {\n",
              "      background-color: #3B4455;\n",
              "      fill: #D2E3FC;\n",
              "    }\n",
              "\n",
              "    [theme=dark] .colab-df-convert:hover {\n",
              "      background-color: #434B5C;\n",
              "      box-shadow: 0px 1px 3px 1px rgba(0, 0, 0, 0.15);\n",
              "      filter: drop-shadow(0px 1px 2px rgba(0, 0, 0, 0.3));\n",
              "      fill: #FFFFFF;\n",
              "    }\n",
              "  </style>\n",
              "\n",
              "    <script>\n",
              "      const buttonEl =\n",
              "        document.querySelector('#df-5f49c92d-fe57-4afc-a7d8-416593de15a8 button.colab-df-convert');\n",
              "      buttonEl.style.display =\n",
              "        google.colab.kernel.accessAllowed ? 'block' : 'none';\n",
              "\n",
              "      async function convertToInteractive(key) {\n",
              "        const element = document.querySelector('#df-5f49c92d-fe57-4afc-a7d8-416593de15a8');\n",
              "        const dataTable =\n",
              "          await google.colab.kernel.invokeFunction('convertToInteractive',\n",
              "                                                    [key], {});\n",
              "        if (!dataTable) return;\n",
              "\n",
              "        const docLinkHtml = 'Like what you see? Visit the ' +\n",
              "          '<a target=\"_blank\" href=https://colab.research.google.com/notebooks/data_table.ipynb>data table notebook</a>'\n",
              "          + ' to learn more about interactive tables.';\n",
              "        element.innerHTML = '';\n",
              "        dataTable['output_type'] = 'display_data';\n",
              "        await google.colab.output.renderOutput(dataTable, element);\n",
              "        const docLink = document.createElement('div');\n",
              "        docLink.innerHTML = docLinkHtml;\n",
              "        element.appendChild(docLink);\n",
              "      }\n",
              "    </script>\n",
              "  </div>\n",
              "\n",
              "\n",
              "<div id=\"df-542cb352-da55-4b4a-8b04-1cc0f9754eb9\">\n",
              "  <button class=\"colab-df-quickchart\" onclick=\"quickchart('df-542cb352-da55-4b4a-8b04-1cc0f9754eb9')\"\n",
              "            title=\"Suggest charts\"\n",
              "            style=\"display:none;\">\n",
              "\n",
              "<svg xmlns=\"http://www.w3.org/2000/svg\" height=\"24px\"viewBox=\"0 0 24 24\"\n",
              "     width=\"24px\">\n",
              "    <g>\n",
              "        <path d=\"M19 3H5c-1.1 0-2 .9-2 2v14c0 1.1.9 2 2 2h14c1.1 0 2-.9 2-2V5c0-1.1-.9-2-2-2zM9 17H7v-7h2v7zm4 0h-2V7h2v10zm4 0h-2v-4h2v4z\"/>\n",
              "    </g>\n",
              "</svg>\n",
              "  </button>\n",
              "\n",
              "<style>\n",
              "  .colab-df-quickchart {\n",
              "      --bg-color: #E8F0FE;\n",
              "      --fill-color: #1967D2;\n",
              "      --hover-bg-color: #E2EBFA;\n",
              "      --hover-fill-color: #174EA6;\n",
              "      --disabled-fill-color: #AAA;\n",
              "      --disabled-bg-color: #DDD;\n",
              "  }\n",
              "\n",
              "  [theme=dark] .colab-df-quickchart {\n",
              "      --bg-color: #3B4455;\n",
              "      --fill-color: #D2E3FC;\n",
              "      --hover-bg-color: #434B5C;\n",
              "      --hover-fill-color: #FFFFFF;\n",
              "      --disabled-bg-color: #3B4455;\n",
              "      --disabled-fill-color: #666;\n",
              "  }\n",
              "\n",
              "  .colab-df-quickchart {\n",
              "    background-color: var(--bg-color);\n",
              "    border: none;\n",
              "    border-radius: 50%;\n",
              "    cursor: pointer;\n",
              "    display: none;\n",
              "    fill: var(--fill-color);\n",
              "    height: 32px;\n",
              "    padding: 0;\n",
              "    width: 32px;\n",
              "  }\n",
              "\n",
              "  .colab-df-quickchart:hover {\n",
              "    background-color: var(--hover-bg-color);\n",
              "    box-shadow: 0 1px 2px rgba(60, 64, 67, 0.3), 0 1px 3px 1px rgba(60, 64, 67, 0.15);\n",
              "    fill: var(--button-hover-fill-color);\n",
              "  }\n",
              "\n",
              "  .colab-df-quickchart-complete:disabled,\n",
              "  .colab-df-quickchart-complete:disabled:hover {\n",
              "    background-color: var(--disabled-bg-color);\n",
              "    fill: var(--disabled-fill-color);\n",
              "    box-shadow: none;\n",
              "  }\n",
              "\n",
              "  .colab-df-spinner {\n",
              "    border: 2px solid var(--fill-color);\n",
              "    border-color: transparent;\n",
              "    border-bottom-color: var(--fill-color);\n",
              "    animation:\n",
              "      spin 1s steps(1) infinite;\n",
              "  }\n",
              "\n",
              "  @keyframes spin {\n",
              "    0% {\n",
              "      border-color: transparent;\n",
              "      border-bottom-color: var(--fill-color);\n",
              "      border-left-color: var(--fill-color);\n",
              "    }\n",
              "    20% {\n",
              "      border-color: transparent;\n",
              "      border-left-color: var(--fill-color);\n",
              "      border-top-color: var(--fill-color);\n",
              "    }\n",
              "    30% {\n",
              "      border-color: transparent;\n",
              "      border-left-color: var(--fill-color);\n",
              "      border-top-color: var(--fill-color);\n",
              "      border-right-color: var(--fill-color);\n",
              "    }\n",
              "    40% {\n",
              "      border-color: transparent;\n",
              "      border-right-color: var(--fill-color);\n",
              "      border-top-color: var(--fill-color);\n",
              "    }\n",
              "    60% {\n",
              "      border-color: transparent;\n",
              "      border-right-color: var(--fill-color);\n",
              "    }\n",
              "    80% {\n",
              "      border-color: transparent;\n",
              "      border-right-color: var(--fill-color);\n",
              "      border-bottom-color: var(--fill-color);\n",
              "    }\n",
              "    90% {\n",
              "      border-color: transparent;\n",
              "      border-bottom-color: var(--fill-color);\n",
              "    }\n",
              "  }\n",
              "</style>\n",
              "\n",
              "  <script>\n",
              "    async function quickchart(key) {\n",
              "      const quickchartButtonEl =\n",
              "        document.querySelector('#' + key + ' button');\n",
              "      quickchartButtonEl.disabled = true;  // To prevent multiple clicks.\n",
              "      quickchartButtonEl.classList.add('colab-df-spinner');\n",
              "      try {\n",
              "        const charts = await google.colab.kernel.invokeFunction(\n",
              "            'suggestCharts', [key], {});\n",
              "      } catch (error) {\n",
              "        console.error('Error during call to suggestCharts:', error);\n",
              "      }\n",
              "      quickchartButtonEl.classList.remove('colab-df-spinner');\n",
              "      quickchartButtonEl.classList.add('colab-df-quickchart-complete');\n",
              "    }\n",
              "    (() => {\n",
              "      let quickchartButtonEl =\n",
              "        document.querySelector('#df-542cb352-da55-4b4a-8b04-1cc0f9754eb9 button');\n",
              "      quickchartButtonEl.style.display =\n",
              "        google.colab.kernel.accessAllowed ? 'block' : 'none';\n",
              "    })();\n",
              "  </script>\n",
              "</div>\n",
              "    </div>\n",
              "  </div>\n"
            ],
            "application/vnd.google.colaboratory.intrinsic+json": {
              "type": "dataframe",
              "variable_name": "principal_df",
              "summary": "{\n  \"name\": \"principal_df\",\n  \"rows\": 178,\n  \"fields\": [\n    {\n      \"column\": \"PC1\",\n      \"properties\": {\n        \"dtype\": \"number\",\n        \"std\": 2.17541650669098,\n        \"min\": -4.280638778751087,\n        \"max\": 4.312783906765562,\n        \"num_unique_values\": 178,\n        \"samples\": [\n          2.084522204730313,\n          1.136166177561018,\n          -2.778812947632513\n        ],\n        \"semantic_type\": \"\",\n        \"description\": \"\"\n      }\n    },\n    {\n      \"column\": \"PC2\",\n      \"properties\": {\n        \"dtype\": \"number\",\n        \"std\": 1.5846390534267178,\n        \"min\": -3.5150896912197283,\n        \"max\": 3.8717838484072384,\n        \"num_unique_values\": 178,\n        \"samples\": [\n          -1.0611379935838603,\n          -1.7771073929776378,\n          -0.28680487288217404\n        ],\n        \"semantic_type\": \"\",\n        \"description\": \"\"\n      }\n    }\n  ]\n}"
            }
          },
          "metadata": {},
          "execution_count": 226
        }
      ],
      "source": [
        "pca = PCA(n_components=2)\n",
        "X_pca = pca.fit_transform(X)\n",
        "\n",
        "principal_df = pd.DataFrame(data = X_pca, columns = ['PC1', 'PC2'])\n",
        "\n",
        "print(principal_df.shape)\n",
        "principal_df.head()"
      ]
    },
    {
      "cell_type": "markdown",
      "id": "9217b840",
      "metadata": {
        "papermill": {
          "duration": 0.035281,
          "end_time": "2022-05-05T08:31:11.370429",
          "exception": false,
          "start_time": "2022-05-05T08:31:11.335148",
          "status": "completed"
        },
        "tags": [],
        "id": "9217b840"
      },
      "source": [
        "**PCA plot in 2D**"
      ]
    },
    {
      "cell_type": "code",
      "execution_count": null,
      "id": "8181c95d",
      "metadata": {
        "_kg_hide-input": false,
        "execution": {
          "iopub.execute_input": "2022-05-05T08:31:11.469718Z",
          "iopub.status.busy": "2022-05-05T08:31:11.447587Z",
          "iopub.status.idle": "2022-05-05T08:31:11.785740Z",
          "shell.execute_reply": "2022-05-05T08:31:11.785047Z",
          "shell.execute_reply.started": "2022-03-24T16:30:08.293447Z"
        },
        "papermill": {
          "duration": 0.379555,
          "end_time": "2022-05-05T08:31:11.785905",
          "exception": false,
          "start_time": "2022-05-05T08:31:11.406350",
          "status": "completed"
        },
        "tags": [],
        "colab": {
          "base_uri": "https://localhost:8080/",
          "height": 604
        },
        "id": "8181c95d",
        "outputId": "6a2255d8-269b-48f2-fcd3-228e1de52c5c"
      },
      "outputs": [
        {
          "output_type": "execute_result",
          "data": {
            "text/plain": [
              "Text(0, 0.5, 'PC2')"
            ]
          },
          "metadata": {},
          "execution_count": 227
        },
        {
          "output_type": "display_data",
          "data": {
            "text/plain": [
              "<Figure size 800x600 with 1 Axes>"
            ],
            "image/png": "[encoded data removed]"
          },
          "metadata": {}
        }
      ],
      "source": [
        "plt.figure(figsize=(8,6))\n",
        "\n",
        "plt.scatter(principal_df.iloc[:,0], principal_df.iloc[:,1], s=40)\n",
        "\n",
        "plt.title('PCA plot in 2D')\n",
        "plt.xlabel('PC1')\n",
        "plt.ylabel('PC2')"
      ]
    },
    {
      "cell_type": "markdown",
      "id": "b11a4cb8",
      "metadata": {
        "papermill": {
          "duration": 0.037036,
          "end_time": "2022-05-05T08:31:11.936428",
          "exception": false,
          "start_time": "2022-05-05T08:31:11.899392",
          "status": "completed"
        },
        "tags": [],
        "id": "b11a4cb8"
      },
      "source": [
        "# Метод k-средних"
      ]
    },
    {
      "cell_type": "markdown",
      "source": [
        "Метод логтя. Ищем инерцию"
      ],
      "metadata": {
        "id": "eeKZiKZFG8gc"
      },
      "id": "eeKZiKZFG8gc"
    },
    {
      "cell_type": "code",
      "source": [
        "import sklearn.cluster as cluster\n",
        "from tqdm import tqdm\n",
        "\n",
        "inertia = []\n",
        "for i in tqdm(range(2,10)):\n",
        "    kmeans = cluster.KMeans(n_clusters=i,\n",
        "               init='k-means++',\n",
        "               n_init=15,\n",
        "               max_iter=500,\n",
        "               random_state=17)\n",
        "    kmeans.fit(X)\n",
        "    inertia.append(kmeans.inertia_)"
      ],
      "metadata": {
        "colab": {
          "base_uri": "https://localhost:8080/"
        },
        "id": "SJ3TaTp3GcDJ",
        "outputId": "cba14eab-e3bc-4e17-e293-d0ae15167a52"
      },
      "id": "SJ3TaTp3GcDJ",
      "execution_count": null,
      "outputs": [
        {
          "output_type": "stream",
          "name": "stderr",
          "text": [
            "100%|██████████| 8/8 [00:02<00:00,  3.21it/s]\n"
          ]
        }
      ]
    },
    {
      "cell_type": "markdown",
      "source": [
        "Метод силуэта"
      ],
      "metadata": {
        "id": "OBuCdjmuHDNW"
      },
      "id": "OBuCdjmuHDNW"
    },
    {
      "cell_type": "code",
      "source": [
        "from sklearn.metrics import silhouette_score\n",
        "\n",
        "silhouette = {}\n",
        "for i in tqdm(range(2,10)):\n",
        "    kmeans = cluster.KMeans(n_clusters=i,\n",
        "               init='k-means++',\n",
        "               n_init=15,\n",
        "               max_iter=500,\n",
        "               random_state=17)\n",
        "    kmeans.fit(X)\n",
        "    silhouette[i] = silhouette_score(X, kmeans.labels_, metric='euclidean')"
      ],
      "metadata": {
        "colab": {
          "base_uri": "https://localhost:8080/"
        },
        "id": "nbKRfISSHQzE",
        "outputId": "458556d3-0c0b-4acf-f927-f3fd0ad87d81"
      },
      "id": "nbKRfISSHQzE",
      "execution_count": null,
      "outputs": [
        {
          "output_type": "stream",
          "name": "stderr",
          "text": [
            "100%|██████████| 8/8 [00:01<00:00,  4.11it/s]\n"
          ]
        }
      ]
    },
    {
      "cell_type": "markdown",
      "source": [
        "Выводим"
      ],
      "metadata": {
        "id": "s6bKDu3VHYjP"
      },
      "id": "s6bKDu3VHYjP"
    },
    {
      "cell_type": "code",
      "source": [
        "sns.set(style='white',font_scale=1.1, rc={'figure.figsize':(12,5)})\n",
        "\n",
        "plt.subplot(1, 2, 1)\n",
        "\n",
        "plt.plot(range(2,len(inertia)+2), inertia, marker='o',lw=2,ms=8,color='red')\n",
        "plt.xlabel('Number of clusters')\n",
        "plt.title('K-means Inertia',fontweight='bold')\n",
        "plt.grid(True)\n",
        "\n",
        "plt.subplot(1, 2, 2)\n",
        "\n",
        "plt.bar(range(len(silhouette)), list(silhouette.values()), align='center',color= 'red',width=0.5)\n",
        "plt.xticks(range(len(silhouette)), list(silhouette.keys()))\n",
        "plt.grid()\n",
        "plt.title('Silhouette Score',fontweight='bold')\n",
        "plt.xlabel('Number of Clusters')\n",
        "\n",
        "\n",
        "plt.show()"
      ],
      "metadata": {
        "colab": {
          "base_uri": "https://localhost:8080/",
          "height": 499
        },
        "id": "2vMFpmf-HUcg",
        "outputId": "4b7e357f-d9c0-4172-cd22-804750a401c9"
      },
      "id": "2vMFpmf-HUcg",
      "execution_count": null,
      "outputs": [
        {
          "output_type": "display_data",
          "data": {
            "text/plain": [
              "<Figure size 1200x500 with 2 Axes>"
            ],
            "image/png": "[encoded data removed]"
          },
          "metadata": {}
        }
      ]
    },
    {
      "cell_type": "code",
      "execution_count": null,
      "id": "740a3844",
      "metadata": {
        "execution": {
          "iopub.execute_input": "2022-05-05T08:31:12.098483Z",
          "iopub.status.busy": "2022-05-05T08:31:12.097682Z",
          "iopub.status.idle": "2022-05-05T08:31:12.153973Z",
          "shell.execute_reply": "2022-05-05T08:31:12.153120Z",
          "shell.execute_reply.started": "2022-03-24T16:30:08.556717Z"
        },
        "papermill": {
          "duration": 0.102773,
          "end_time": "2022-05-05T08:31:12.154152",
          "exception": false,
          "start_time": "2022-05-05T08:31:12.051379",
          "status": "completed"
        },
        "tags": [],
        "colab": {
          "base_uri": "https://localhost:8080/"
        },
        "id": "740a3844",
        "outputId": "749561dc-2967-4e9f-c81e-8821983d9979"
      },
      "outputs": [
        {
          "output_type": "stream",
          "name": "stdout",
          "text": [
            "Silhouette Score: 0.2848589191898987\n"
          ]
        },
        {
          "output_type": "stream",
          "name": "stderr",
          "text": [
            "/usr/local/lib/python3.10/dist-packages/sklearn/base.py:439: UserWarning:\n",
            "\n",
            "X does not have valid feature names, but PCA was fitted with feature names\n",
            "\n"
          ]
        }
      ],
      "source": [
        "kmeans = KMeans(n_clusters=3, n_init=15, max_iter=500, random_state=0)\n",
        "\n",
        "clusters = kmeans.fit_predict(X)\n",
        "\n",
        "centroids = kmeans.cluster_centers_\n",
        "centroids_pca = pca.transform(centroids)\n",
        "\n",
        "silhouette_avg = silhouette_score(X, clusters)\n",
        "print(f\"Silhouette Score: {silhouette_avg}\")"
      ]
    },
    {
      "cell_type": "code",
      "source": [
        "silhouette_avg = silhouette_score(X_pca, clusters)\n",
        "print(f\"Silhouette Score: {silhouette_avg}\")"
      ],
      "metadata": {
        "colab": {
          "base_uri": "https://localhost:8080/"
        },
        "id": "JiexQBuyWjUn",
        "outputId": "94bbdecb-cf95-4250-8479-89c2bbef2dbc"
      },
      "id": "JiexQBuyWjUn",
      "execution_count": null,
      "outputs": [
        {
          "output_type": "stream",
          "name": "stdout",
          "text": [
            "Silhouette Score: 0.5583363740907525\n"
          ]
        }
      ]
    },
    {
      "cell_type": "markdown",
      "id": "8b35fce1",
      "metadata": {
        "papermill": {
          "duration": 0.038858,
          "end_time": "2022-05-05T08:31:12.694877",
          "exception": false,
          "start_time": "2022-05-05T08:31:12.656019",
          "status": "completed"
        },
        "tags": [],
        "id": "8b35fce1"
      },
      "source": [
        "# PCA для k-средних"
      ]
    },
    {
      "cell_type": "markdown",
      "id": "0c5bd2ba",
      "metadata": {
        "papermill": {
          "duration": 0.037167,
          "end_time": "2022-05-05T08:31:12.228786",
          "exception": false,
          "start_time": "2022-05-05T08:31:12.191619",
          "status": "completed"
        },
        "tags": [],
        "id": "0c5bd2ba"
      },
      "source": [
        "**PCA plot in 2D coloured by cluster**"
      ]
    },
    {
      "cell_type": "code",
      "execution_count": null,
      "id": "f6e2d110",
      "metadata": {
        "execution": {
          "iopub.execute_input": "2022-05-05T08:31:12.311684Z",
          "iopub.status.busy": "2022-05-05T08:31:12.310878Z",
          "iopub.status.idle": "2022-05-05T08:31:12.616154Z",
          "shell.execute_reply": "2022-05-05T08:31:12.616672Z",
          "shell.execute_reply.started": "2022-03-24T16:30:08.612763Z"
        },
        "papermill": {
          "duration": 0.350018,
          "end_time": "2022-05-05T08:31:12.616839",
          "exception": false,
          "start_time": "2022-05-05T08:31:12.266821",
          "status": "completed"
        },
        "tags": [],
        "colab": {
          "base_uri": "https://localhost:8080/",
          "height": 593
        },
        "id": "f6e2d110",
        "outputId": "fb5aee4d-7952-4de6-f68a-e498053d063c"
      },
      "outputs": [
        {
          "output_type": "execute_result",
          "data": {
            "text/plain": [
              "Text(0, 0.5, 'PC2')"
            ]
          },
          "metadata": {},
          "execution_count": 233
        },
        {
          "output_type": "display_data",
          "data": {
            "text/plain": [
              "<Figure size 800x600 with 1 Axes>"
            ],
            "image/png": "[encoded data removed]"
          },
          "metadata": {}
        }
      ],
      "source": [
        "plt.figure(figsize=(8,6))\n",
        "\n",
        "plt.scatter(principal_df.iloc[:,0], principal_df.iloc[:,1], c=clusters, cmap=\"brg\", s=40)\n",
        "plt.scatter(x=centroids_pca[:,0], y=centroids_pca[:,1], marker=\"x\", s=500, linewidths=3, color=\"black\")\n",
        "\n",
        "plt.title('PCA plot in 2D')\n",
        "plt.xlabel('PC1')\n",
        "plt.ylabel('PC2')"
      ]
    },
    {
      "cell_type": "code",
      "source": [
        "silhouette_avg = silhouette_score(X_pca, clusters)\n",
        "print(f\"Silhouette Score: {silhouette_avg}\")"
      ],
      "metadata": {
        "colab": {
          "base_uri": "https://localhost:8080/"
        },
        "id": "Gxe70RuSXRdv",
        "outputId": "0e383698-11e5-4857-8a94-d61a1651533b"
      },
      "id": "Gxe70RuSXRdv",
      "execution_count": null,
      "outputs": [
        {
          "output_type": "stream",
          "name": "stdout",
          "text": [
            "Silhouette Score: 0.5583363740907525\n"
          ]
        }
      ]
    },
    {
      "cell_type": "markdown",
      "id": "b9e8d2c0",
      "metadata": {
        "papermill": {
          "duration": 0.040253,
          "end_time": "2022-05-05T08:31:12.860359",
          "exception": false,
          "start_time": "2022-05-05T08:31:12.820106",
          "status": "completed"
        },
        "tags": [],
        "id": "b9e8d2c0"
      },
      "source": [
        "**PCA plot in 3D**"
      ]
    },
    {
      "cell_type": "code",
      "execution_count": null,
      "id": "75a9d74f",
      "metadata": {
        "execution": {
          "iopub.execute_input": "2022-05-05T08:31:12.948089Z",
          "iopub.status.busy": "2022-05-05T08:31:12.947354Z",
          "iopub.status.idle": "2022-05-05T08:31:14.064243Z",
          "shell.execute_reply": "2022-05-05T08:31:14.064956Z",
          "shell.execute_reply.started": "2022-03-24T16:30:08.897328Z"
        },
        "papermill": {
          "duration": 1.165443,
          "end_time": "2022-05-05T08:31:14.065143",
          "exception": false,
          "start_time": "2022-05-05T08:31:12.899700",
          "status": "completed"
        },
        "tags": [],
        "colab": {
          "base_uri": "https://localhost:8080/",
          "height": 517
        },
        "id": "75a9d74f",
        "outputId": "e24d0ab5-5575-4b39-ac3e-e47139e15f9b"
      },
      "outputs": [
        {
          "output_type": "display_data",
          "data": {
            "text/html": [
              "<html>\n",
              "<head><meta charset=\"utf-8\" /></head>\n",
              "<body>\n",
              "    <div>            <script src=\"https://cdnjs.cloudflare.com/ajax/libs/mathjax/2.7.5/MathJax.js?config=TeX-AMS-MML_SVG\"></script><script type=\"text/javascript\">if (window.MathJax && window.MathJax.Hub && window.MathJax.Hub.Config) {window.MathJax.Hub.Config({SVG: {font: \"STIX-Web\"}});}</script>                <script type=\"text/javascript\">window.PlotlyConfig = {MathJaxConfig: 'local'};</script>\n",
              "        <script charset=\"utf-8\" src=\"https://cdn.plot.ly/plotly-2.24.1.min.js\"></script>                <div id=\"fa4ce8d8-9def-4691-a4dc-b8afd5168956\" class=\"plotly-graph-div\" style=\"height:500px; width:650px;\"></div>            <script type=\"text/javascript\">                                    window.PLOTLYENV=window.PLOTLYENV || {};                                    if (document.getElementById(\"fa4ce8d8-9def-4691-a4dc-b8afd5168956\")) {                    Plotly.newPlot(                        \"fa4ce8d8-9def-4691-a4dc-b8afd5168956\",                        [{\"hovertemplate\":\"PC 1=%{x}\\u003cbr\\u003ePC 2=%{y}\\u003cbr\\u003ePC 3=%{z}\\u003cbr\\u003esize=%{marker.size}\\u003cbr\\u003ecolor=%{marker.color}\\u003cextra\\u003e\\u003c\\u002fextra\\u003e\",\"legendgroup\":\"\",\"marker\":{\"color\":[2,2,2,2,2,2,2,2,2,2,2,2,2,2,2,2,2,2,2,2,2,2,2,2,2,2,2,2,2,2,2,2,2,2,2,2,2,2,2,2,2,2,2,2,2,2,2,2,2,2,2,2,2,2,2,2,2,2,2,1,1,0,1,1,1,1,1,1,1,1,1,1,1,2,1,1,1,1,1,1,1,1,1,0,1,1,1,1,1,1,1,1,1,1,1,2,1,1,1,1,1,1,1,1,1,1,1,1,1,1,1,1,1,1,1,1,1,1,0,1,1,2,1,1,1,1,1,1,1,1,0,0,0,0,0,0,0,0,0,0,0,0,0,0,0,0,0,0,0,0,0,0,0,0,0,0,0,0,0,0,0,0,0,0,0,0,0,0,0,0,0,0,0,0,0,0,0,0],\"coloraxis\":\"coloraxis\",\"opacity\":1,\"size\":[0.1,0.1,0.1,0.1,0.1,0.1,0.1,0.1,0.1,0.1,0.1,0.1,0.1,0.1,0.1,0.1,0.1,0.1,0.1,0.1,0.1,0.1,0.1,0.1,0.1,0.1,0.1,0.1,0.1,0.1,0.1,0.1,0.1,0.1,0.1,0.1,0.1,0.1,0.1,0.1,0.1,0.1,0.1,0.1,0.1,0.1,0.1,0.1,0.1,0.1,0.1,0.1,0.1,0.1,0.1,0.1,0.1,0.1,0.1,0.1,0.1,0.1,0.1,0.1,0.1,0.1,0.1,0.1,0.1,0.1,0.1,0.1,0.1,0.1,0.1,0.1,0.1,0.1,0.1,0.1,0.1,0.1,0.1,0.1,0.1,0.1,0.1,0.1,0.1,0.1,0.1,0.1,0.1,0.1,0.1,0.1,0.1,0.1,0.1,0.1,0.1,0.1,0.1,0.1,0.1,0.1,0.1,0.1,0.1,0.1,0.1,0.1,0.1,0.1,0.1,0.1,0.1,0.1,0.1,0.1,0.1,0.1,0.1,0.1,0.1,0.1,0.1,0.1,0.1,0.1,0.1,0.1,0.1,0.1,0.1,0.1,0.1,0.1,0.1,0.1,0.1,0.1,0.1,0.1,0.1,0.1,0.1,0.1,0.1,0.1,0.1,0.1,0.1,0.1,0.1,0.1,0.1,0.1,0.1,0.1,0.1,0.1,0.1,0.1,0.1,0.1,0.1,0.1,0.1,0.1,0.1,0.1,0.1,0.1,0.1,0.1,0.1,0.1],\"sizemode\":\"area\",\"sizeref\":0.00025,\"symbol\":\"circle\"},\"mode\":\"markers\",\"name\":\"\",\"scene\":\"scene\",\"showlegend\":false,\"x\":[3.316750812214778,2.2094649169188436,2.5167401466103825,3.7570656097732065,1.0089084937957167,3.05025392241808,2.4490896695962308,2.059436871437914,2.510874297398988,2.75362818763391,3.4797366827312106,1.7547529012945882,2.1134623403150945,3.458156819336723,4.312783906765562,2.3051882008279736,2.171955273741513,1.898971176562762,3.5419850819434693,2.084522204730313,3.1244025351672007,1.0865700683322403,2.5352240799037147,1.6449883412544701,1.7615758722693011,0.9900791016088574,1.7752776281133689,1.2354239643099048,2.188406334451962,2.256108981283707,2.5002200257894254,2.677411047444015,1.6285791164309182,1.9026908622381487,1.4103885265954066,1.9038262321944868,1.3848622303748404,1.12220741044131,1.5021945006181907,2.5298010923718106,2.5880954258544038,0.6684819937541856,3.070806990412008,0.46220913751600656,2.101351930538015,1.136166177561018,2.7266009636408026,2.821339274192248,2.009850850912358,2.707491304266394,3.2149174747738227,2.8589598267172938,3.5056043559232237,2.2247913805321735,2.1469878235638666,2.4693294837977873,2.7415179142774524,2.173740920965307,3.1393801518289965,-0.9285819689218571,-1.5424801378968804,-1.8362497634669401,0.030606834086679538,2.050261607576316,-0.6096808271776221,0.9002278387071436,2.2485071907983936,0.1833840266847552,-0.8128050273520715,1.975620498798553,-1.5722162196263008,1.65768180883329,-0.7253723880353569,2.562227173170362,1.8325675700495478,-0.8679929031954134,0.37001440429478166,-1.4573770449061396,1.2629308497284963,0.37615037193423945,0.762063904109598,1.034577967165186,-0.49487675568032824,-2.5389770842951203,0.8353201453942978,0.7879046149897091,-0.806832155965539,-0.5580426248756826,-1.1151110419194474,-0.5557228299517027,-1.3492852824437314,-1.564482605719906,-1.9325556106314647,0.7466659419884492,0.9574553638036404,2.543865184199552,-0.5439525887762291,1.0310497503881477,2.251909422148124,1.4102160153374586,0.7977197926930392,-0.5495317266494659,-0.1611737399485456,-0.6597949416843614,0.39235440818508127,-1.772499077960035,-0.36626735735206584,-1.6206725727874804,0.08253578349332645,1.5782750709323816,1.4205692478240148,-0.2787027536488555,-1.30314496624828,-0.4570718656526247,-0.49418584704437507,0.48207440977309235,-0.2528888776532015,-0.10722763772912426,-2.4330126025502192,-0.5510895391746531,0.7396219285682214,1.336321733418331,-1.1770869962477732,-0.4623350080196814,0.9784740793566469,-0.09680972631598662,0.038487145949024554,-1.5971585012074714,-0.4795649160831262,-1.792833473031145,-1.3271016561416011,-2.38450083474353,-2.9369401021466124,-2.146811133816064,-2.3698694883330416,-3.0638415687203544,-3.9157537837118896,-3.936463390715964,-3.0942761177622766,-2.3744716280069222,-2.778812947632513,-2.2865612847384695,-2.9856334874494648,-2.375194698227108,-2.209865525595872,-2.625621004692722,-4.280638778751087,-3.582641372001104,-2.8070637200816586,-2.8996593330239113,-2.320736976549203,-2.549830947226135,-1.8125412848422975,-2.7601446419239495,-2.737150500667991,-3.6048688681834244,-2.8898259968735065,-3.392156076835721,-1.0481818968536754,-1.6099122828479335,-3.143130966743974,-2.240156896269542,-2.8476737761195197,-2.5974970566487645,-2.9492993731348434,-3.5300322663493118,-2.4061105404785517,-2.929084726967455,-2.1814127788126196,-2.3809277871356382,-3.2116172150412488,-3.677918720973816,-2.465555798040447,-3.3705241454428605,-2.601955851224738,-2.6778394608645018,-2.3870170912797186,-3.2087581641980214],\"y\":[-1.443462634318007,0.33339288708029713,-1.031151296274319,-2.7563719137107126,-0.8698308214172026,-2.122401114634191,-1.174850131649475,-1.608963068363507,-0.9180709573337781,-0.789437673833607,-1.302333237123596,-0.6119772287456328,-0.6757063391426193,-1.1306298761729385,-2.0959755753412628,-1.6625517299890553,-2.327305336191418,-1.631368878642837,-2.518343669306647,-1.0611379935838603,-0.7868971056508944,-0.24174355133283942,0.09184062072088005,0.516278930067235,0.3171489326843817,-0.9406673381906309,-0.6861751342850239,0.0898070413606386,-0.6895696206616231,-0.1914619368866658,-1.2408338348969417,-1.4718736461032487,-0.052704450575323664,-1.633060434769982,-0.6979343246113556,-0.17671095109545587,-0.6586398536611482,-0.1141097602968881,0.7694320064310073,-1.8030019760618279,-0.7796163041925072,-0.16996094061987674,-1.1559189566098835,-0.33074213219227566,0.0710089209540663,-1.7771073929776378,-1.1913346919571846,-0.6462585991417045,-1.2470294606787602,-1.7519674072063378,-0.16699199499679296,-0.7452788039895886,-1.6127338560350108,-1.8751679995630237,-1.01675153775766,-1.329008310649621,-1.4365487835125146,-1.212199840697794,-1.7315791159925122,3.073486163188925,1.3814435080942276,0.8299841230557168,1.262786144211401,1.925032604650101,1.9080588050851879,0.7639114736096093,1.8845924845501307,2.4271461147035693,0.22051398690226945,1.4032832253096155,0.8849831369082215,0.9567121974591506,1.0636454007060945,-0.2601985506545929,1.287878197860526,2.444101185580862,2.153906975156986,1.3833517690762591,0.7708495299701171,1.027043403355823,3.375053809963534,1.4507097382440908,2.38124352676737,0.08744335730498197,1.4736705514008688,2.0266265224624767,2.2338303908439117,2.372985428849456,1.8022471916654534,2.657540035392292,2.1180014697848177,1.8522145217655508,1.5594954568986215,2.3129317092207393,2.2235284346674598,-0.16927402279973883,0.3689265458773187,2.565569348733522,1.4327413803542546,2.166191769370384,2.37694880308186,2.2931286432456246,1.1644833215600163,2.679961185989634,2.0987317087655355,1.7172884693761423,2.1693532978292818,1.3555833880259571,2.3062345877483237,1.462034290204818,1.41820663763375,1.9305680886704675,0.7631723136577924,2.269415607589676,1.9390450494868325,3.8717838484072384,2.821492374701592,1.928922042566959,1.257141040494391,2.2221615507766206,1.4089566673657123,-0.25333693116830247,0.6639668398015723,0.6182881794850411,1.445570498895827,2.1099979931352255,1.266762109157885,1.2081435741284876,1.9388406603940487,1.1502881044421047,-0.17038923204902762,-0.37458260552469375,-0.26386183006838004,-0.3682549518864611,0.45963480923116595,-0.3534128354584036,-0.15458251944173276,-0.6596872334097812,-0.34884275927379704,-0.291980351559993,-0.28680487288217404,-0.3725078446852995,-0.4892179083470119,-0.4823337172448784,-1.160052504157643,-0.5631607642108348,-0.6496709640237077,-1.2727027497273014,-1.5705337870411973,-2.0410570079384636,-2.3563660755566724,-2.045283091019523,-1.5276459462687484,-2.1389323476426116,-0.40988627088179075,-1.8023842175839673,-1.9252186131303428,-1.3118763884735947,-3.5150896912197283,-2.4066381595743267,-0.7381610441757978,-1.1754652881188643,-0.5560439658826734,-0.6979655372009198,-1.5553089642839837,-0.8825267962042366,-2.5923561750423962,-1.274446947904483,-2.077537312734514,-2.5886674324185885,0.2512491044255908,-0.8477478441497639,-2.1937983036540936,-2.2162891398611366,-1.7572293509792742,-2.760899131674546,-2.297346679712818,-2.7689195660475723],\"z\":[-0.1657390446144176,-2.026457373807533,0.9828186702120613,-0.17619184219949072,2.0266882192354068,-0.6293958270439097,-0.9770948907141943,0.14628188306155895,-1.7709690272289385,-0.9842474895182345,-0.42273521658084673,-1.1908783196301735,-0.8650864256166529,-1.2042763525381857,-1.2639127523579963,0.21790261559595778,0.8317298659860085,0.7949137923810704,-0.48545850766629095,-0.16474667849947464,-0.3648870829888456,0.9369615996106425,-0.31193265934796943,0.14388509467079436,0.8902856474056882,3.8209080081948352,-0.08670040648876194,-1.3868965448964354,1.3945668808503597,-1.0926572575082918,1.386017854715678,-0.33226172837509377,-0.16712870624533277,1.172082119175345,0.4797430251686613,0.45083504003720803,0.4584385808520626,-0.03910727668974895,-1.42617734589046,-0.3431523889796907,-0.11847746611373473,-0.7833625480611457,-0.3127580839341533,-0.201476496256772,-0.6558494150434339,0.028705735784751774,-0.5397732611476717,-1.1555524107274053,-0.05729398793992131,-0.6431136120007934,-1.9735716799013714,0.004719502164697305,-0.5207745300761726,0.33954985035420976,-0.9577627619503265,0.5134374530359689,-0.6124733957169574,0.26177959277079055,-0.28566141261644834,-4.585064007148203,-0.8746831124458073,-1.605702186320617,-1.7844080104188538,-0.007368777349817653,0.6793579379775343,0.5733613020971909,-2.031840192867583,-1.0697455602477983,-0.7070053958009646,-1.2382762196848678,-0.6289979502315948,1.9525842166061962,0.08033222861543587,3.374393962239751,0.45828002739955603,-1.5633331789503793,-2.449386348303737,-0.22730690232730627,-1.1842245173752415,1.7944662945426564,-0.35747005553946587,-0.3630117731639614,1.335743176284864,0.47425139276914813,0.6100935756921056,-0.2547234039695505,0.7728557971982628,2.3076114040119995,0.9592533076886525,0.8491268977432239,-0.04765232084869165,0.7810670309346306,-0.08927467610867725,0.11467976874541458,0.14244477369872358,0.7886969907454742,1.3088959318568545,-1.0863901738177382,-0.2302082437978141,0.7488964107708789,-1.568112531275527,-1.4989353232010774,1.0037131028373545,-0.764920868479514,-0.4718500076097392,0.9470331744608654,-0.48132423474229064,0.2871590006956167,-0.46357498937395336,1.7796459547332812,0.13927582948818984,0.07867055304723324,1.9995965104868532,1.0613389675926643,1.323938072376692,1.3442712233930696,-0.3026397845306415,0.6901482425075102,-1.9030274044113473,-0.3562288302125364,1.1253454920042345,5.345388179195738,3.0102218879464258,0.4834423663441801,1.4812369749959438,0.43482611561678786,0.6875779128728093,3.361175555386425,1.2965075188296686,0.7828001731822631,-1.1800133553094854,-0.7238225948116629,-0.16763981598372188,-0.45330130146918773,-1.1013997885920548,-1.0991241041153386,0.22182779984104675,1.7122154192145342,-1.0268314134224485,1.2419143328305626,0.6096701239723723,-0.9716430323608536,0.9469529317999696,-0.25288399405333317,-1.2451252259210657,-0.8559610818033764,-1.4581969616385648,-0.11078403762472726,-0.4725279345720854,-0.4959598102350938,0.4376817436187609,-0.31226799865093186,1.36258978158787,-0.9646286882006765,-1.1904046839669828,-0.0940368613359719,-0.7823225555084454,1.6020259689000202,1.1600385659132284,0.5485596972407119,-0.09099872392222275,-0.10137693249612086,0.8042152181010281,-0.8849395211306326,-0.9834007272249402,-0.4660291277785391,0.42822621079957696,-1.2133582715051483,0.7637825515581186,1.418044029496811,-0.8471291521285012,-1.3394202310855148,-0.9187809604264877,-0.34256951241432226,0.20758135498125113,-0.9409418766769944,-0.5506961970110856,1.0139136641131141],\"type\":\"scatter3d\"}],                        {\"template\":{\"data\":{\"histogram2dcontour\":[{\"type\":\"histogram2dcontour\",\"colorbar\":{\"outlinewidth\":0,\"ticks\":\"\"},\"colorscale\":[[0.0,\"#0d0887\"],[0.1111111111111111,\"#46039f\"],[0.2222222222222222,\"#7201a8\"],[0.3333333333333333,\"#9c179e\"],[0.4444444444444444,\"#bd3786\"],[0.5555555555555556,\"#d8576b\"],[0.6666666666666666,\"#ed7953\"],[0.7777777777777778,\"#fb9f3a\"],[0.8888888888888888,\"#fdca26\"],[1.0,\"#f0f921\"]]}],\"choropleth\":[{\"type\":\"choropleth\",\"colorbar\":{\"outlinewidth\":0,\"ticks\":\"\"}}],\"histogram2d\":[{\"type\":\"histogram2d\",\"colorbar\":{\"outlinewidth\":0,\"ticks\":\"\"},\"colorscale\":[[0.0,\"#0d0887\"],[0.1111111111111111,\"#46039f\"],[0.2222222222222222,\"#7201a8\"],[0.3333333333333333,\"#9c179e\"],[0.4444444444444444,\"#bd3786\"],[0.5555555555555556,\"#d8576b\"],[0.6666666666666666,\"#ed7953\"],[0.7777777777777778,\"#fb9f3a\"],[0.8888888888888888,\"#fdca26\"],[1.0,\"#f0f921\"]]}],\"heatmap\":[{\"type\":\"heatmap\",\"colorbar\":{\"outlinewidth\":0,\"ticks\":\"\"},\"colorscale\":[[0.0,\"#0d0887\"],[0.1111111111111111,\"#46039f\"],[0.2222222222222222,\"#7201a8\"],[0.3333333333333333,\"#9c179e\"],[0.4444444444444444,\"#bd3786\"],[0.5555555555555556,\"#d8576b\"],[0.6666666666666666,\"#ed7953\"],[0.7777777777777778,\"#fb9f3a\"],[0.8888888888888888,\"#fdca26\"],[1.0,\"#f0f921\"]]}],\"heatmapgl\":[{\"type\":\"heatmapgl\",\"colorbar\":{\"outlinewidth\":0,\"ticks\":\"\"},\"colorscale\":[[0.0,\"#0d0887\"],[0.1111111111111111,\"#46039f\"],[0.2222222222222222,\"#7201a8\"],[0.3333333333333333,\"#9c179e\"],[0.4444444444444444,\"#bd3786\"],[0.5555555555555556,\"#d8576b\"],[0.6666666666666666,\"#ed7953\"],[0.7777777777777778,\"#fb9f3a\"],[0.8888888888888888,\"#fdca26\"],[1.0,\"#f0f921\"]]}],\"contourcarpet\":[{\"type\":\"contourcarpet\",\"colorbar\":{\"outlinewidth\":0,\"ticks\":\"\"}}],\"contour\":[{\"type\":\"contour\",\"colorbar\":{\"outlinewidth\":0,\"ticks\":\"\"},\"colorscale\":[[0.0,\"#0d0887\"],[0.1111111111111111,\"#46039f\"],[0.2222222222222222,\"#7201a8\"],[0.3333333333333333,\"#9c179e\"],[0.4444444444444444,\"#bd3786\"],[0.5555555555555556,\"#d8576b\"],[0.6666666666666666,\"#ed7953\"],[0.7777777777777778,\"#fb9f3a\"],[0.8888888888888888,\"#fdca26\"],[1.0,\"#f0f921\"]]}],\"surface\":[{\"type\":\"surface\",\"colorbar\":{\"outlinewidth\":0,\"ticks\":\"\"},\"colorscale\":[[0.0,\"#0d0887\"],[0.1111111111111111,\"#46039f\"],[0.2222222222222222,\"#7201a8\"],[0.3333333333333333,\"#9c179e\"],[0.4444444444444444,\"#bd3786\"],[0.5555555555555556,\"#d8576b\"],[0.6666666666666666,\"#ed7953\"],[0.7777777777777778,\"#fb9f3a\"],[0.8888888888888888,\"#fdca26\"],[1.0,\"#f0f921\"]]}],\"mesh3d\":[{\"type\":\"mesh3d\",\"colorbar\":{\"outlinewidth\":0,\"ticks\":\"\"}}],\"scatter\":[{\"fillpattern\":{\"fillmode\":\"overlay\",\"size\":10,\"solidity\":0.2},\"type\":\"scatter\"}],\"parcoords\":[{\"type\":\"parcoords\",\"line\":{\"colorbar\":{\"outlinewidth\":0,\"ticks\":\"\"}}}],\"scatterpolargl\":[{\"type\":\"scatterpolargl\",\"marker\":{\"colorbar\":{\"outlinewidth\":0,\"ticks\":\"\"}}}],\"bar\":[{\"error_x\":{\"color\":\"#2a3f5f\"},\"error_y\":{\"color\":\"#2a3f5f\"},\"marker\":{\"line\":{\"color\":\"#E5ECF6\",\"width\":0.5},\"pattern\":{\"fillmode\":\"overlay\",\"size\":10,\"solidity\":0.2}},\"type\":\"bar\"}],\"scattergeo\":[{\"type\":\"scattergeo\",\"marker\":{\"colorbar\":{\"outlinewidth\":0,\"ticks\":\"\"}}}],\"scatterpolar\":[{\"type\":\"scatterpolar\",\"marker\":{\"colorbar\":{\"outlinewidth\":0,\"ticks\":\"\"}}}],\"histogram\":[{\"marker\":{\"pattern\":{\"fillmode\":\"overlay\",\"size\":10,\"solidity\":0.2}},\"type\":\"histogram\"}],\"scattergl\":[{\"type\":\"scattergl\",\"marker\":{\"colorbar\":{\"outlinewidth\":0,\"ticks\":\"\"}}}],\"scatter3d\":[{\"type\":\"scatter3d\",\"line\":{\"colorbar\":{\"outlinewidth\":0,\"ticks\":\"\"}},\"marker\":{\"colorbar\":{\"outlinewidth\":0,\"ticks\":\"\"}}}],\"scattermapbox\":[{\"type\":\"scattermapbox\",\"marker\":{\"colorbar\":{\"outlinewidth\":0,\"ticks\":\"\"}}}],\"scatterternary\":[{\"type\":\"scatterternary\",\"marker\":{\"colorbar\":{\"outlinewidth\":0,\"ticks\":\"\"}}}],\"scattercarpet\":[{\"type\":\"scattercarpet\",\"marker\":{\"colorbar\":{\"outlinewidth\":0,\"ticks\":\"\"}}}],\"carpet\":[{\"aaxis\":{\"endlinecolor\":\"#2a3f5f\",\"gridcolor\":\"white\",\"linecolor\":\"white\",\"minorgridcolor\":\"white\",\"startlinecolor\":\"#2a3f5f\"},\"baxis\":{\"endlinecolor\":\"#2a3f5f\",\"gridcolor\":\"white\",\"linecolor\":\"white\",\"minorgridcolor\":\"white\",\"startlinecolor\":\"#2a3f5f\"},\"type\":\"carpet\"}],\"table\":[{\"cells\":{\"fill\":{\"color\":\"#EBF0F8\"},\"line\":{\"color\":\"white\"}},\"header\":{\"fill\":{\"color\":\"#C8D4E3\"},\"line\":{\"color\":\"white\"}},\"type\":\"table\"}],\"barpolar\":[{\"marker\":{\"line\":{\"color\":\"#E5ECF6\",\"width\":0.5},\"pattern\":{\"fillmode\":\"overlay\",\"size\":10,\"solidity\":0.2}},\"type\":\"barpolar\"}],\"pie\":[{\"automargin\":true,\"type\":\"pie\"}]},\"layout\":{\"autotypenumbers\":\"strict\",\"colorway\":[\"#636efa\",\"#EF553B\",\"#00cc96\",\"#ab63fa\",\"#FFA15A\",\"#19d3f3\",\"#FF6692\",\"#B6E880\",\"#FF97FF\",\"#FECB52\"],\"font\":{\"color\":\"#2a3f5f\"},\"hovermode\":\"closest\",\"hoverlabel\":{\"align\":\"left\"},\"paper_bgcolor\":\"white\",\"plot_bgcolor\":\"#E5ECF6\",\"polar\":{\"bgcolor\":\"#E5ECF6\",\"angularaxis\":{\"gridcolor\":\"white\",\"linecolor\":\"white\",\"ticks\":\"\"},\"radialaxis\":{\"gridcolor\":\"white\",\"linecolor\":\"white\",\"ticks\":\"\"}},\"ternary\":{\"bgcolor\":\"#E5ECF6\",\"aaxis\":{\"gridcolor\":\"white\",\"linecolor\":\"white\",\"ticks\":\"\"},\"baxis\":{\"gridcolor\":\"white\",\"linecolor\":\"white\",\"ticks\":\"\"},\"caxis\":{\"gridcolor\":\"white\",\"linecolor\":\"white\",\"ticks\":\"\"}},\"coloraxis\":{\"colorbar\":{\"outlinewidth\":0,\"ticks\":\"\"}},\"colorscale\":{\"sequential\":[[0.0,\"#0d0887\"],[0.1111111111111111,\"#46039f\"],[0.2222222222222222,\"#7201a8\"],[0.3333333333333333,\"#9c179e\"],[0.4444444444444444,\"#bd3786\"],[0.5555555555555556,\"#d8576b\"],[0.6666666666666666,\"#ed7953\"],[0.7777777777777778,\"#fb9f3a\"],[0.8888888888888888,\"#fdca26\"],[1.0,\"#f0f921\"]],\"sequentialminus\":[[0.0,\"#0d0887\"],[0.1111111111111111,\"#46039f\"],[0.2222222222222222,\"#7201a8\"],[0.3333333333333333,\"#9c179e\"],[0.4444444444444444,\"#bd3786\"],[0.5555555555555556,\"#d8576b\"],[0.6666666666666666,\"#ed7953\"],[0.7777777777777778,\"#fb9f3a\"],[0.8888888888888888,\"#fdca26\"],[1.0,\"#f0f921\"]],\"diverging\":[[0,\"#8e0152\"],[0.1,\"#c51b7d\"],[0.2,\"#de77ae\"],[0.3,\"#f1b6da\"],[0.4,\"#fde0ef\"],[0.5,\"#f7f7f7\"],[0.6,\"#e6f5d0\"],[0.7,\"#b8e186\"],[0.8,\"#7fbc41\"],[0.9,\"#4d9221\"],[1,\"#276419\"]]},\"xaxis\":{\"gridcolor\":\"white\",\"linecolor\":\"white\",\"ticks\":\"\",\"title\":{\"standoff\":15},\"zerolinecolor\":\"white\",\"automargin\":true,\"zerolinewidth\":2},\"yaxis\":{\"gridcolor\":\"white\",\"linecolor\":\"white\",\"ticks\":\"\",\"title\":{\"standoff\":15},\"zerolinecolor\":\"white\",\"automargin\":true,\"zerolinewidth\":2},\"scene\":{\"xaxis\":{\"backgroundcolor\":\"#E5ECF6\",\"gridcolor\":\"white\",\"linecolor\":\"white\",\"showbackground\":true,\"ticks\":\"\",\"zerolinecolor\":\"white\",\"gridwidth\":2},\"yaxis\":{\"backgroundcolor\":\"#E5ECF6\",\"gridcolor\":\"white\",\"linecolor\":\"white\",\"showbackground\":true,\"ticks\":\"\",\"zerolinecolor\":\"white\",\"gridwidth\":2},\"zaxis\":{\"backgroundcolor\":\"#E5ECF6\",\"gridcolor\":\"white\",\"linecolor\":\"white\",\"showbackground\":true,\"ticks\":\"\",\"zerolinecolor\":\"white\",\"gridwidth\":2}},\"shapedefaults\":{\"line\":{\"color\":\"#2a3f5f\"}},\"annotationdefaults\":{\"arrowcolor\":\"#2a3f5f\",\"arrowhead\":0,\"arrowwidth\":1},\"geo\":{\"bgcolor\":\"white\",\"landcolor\":\"#E5ECF6\",\"subunitcolor\":\"white\",\"showland\":true,\"showlakes\":true,\"lakecolor\":\"white\"},\"title\":{\"x\":0.05},\"mapbox\":{\"style\":\"light\"}}},\"scene\":{\"domain\":{\"x\":[0.0,1.0],\"y\":[0.0,1.0]},\"xaxis\":{\"title\":{\"text\":\"PC 1\"}},\"yaxis\":{\"title\":{\"text\":\"PC 2\"}},\"zaxis\":{\"title\":{\"text\":\"PC 3\"}}},\"coloraxis\":{\"colorbar\":{\"title\":{\"text\":\"color\"}},\"colorscale\":[[0.0,\"#0d0887\"],[0.1111111111111111,\"#46039f\"],[0.2222222222222222,\"#7201a8\"],[0.3333333333333333,\"#9c179e\"],[0.4444444444444444,\"#bd3786\"],[0.5555555555555556,\"#d8576b\"],[0.6666666666666666,\"#ed7953\"],[0.7777777777777778,\"#fb9f3a\"],[0.8888888888888888,\"#fdca26\"],[1.0,\"#f0f921\"]]},\"legend\":{\"tracegroupgap\":0,\"itemsizing\":\"constant\"},\"title\":{\"text\":\"PCA plot in 3D\"},\"height\":500,\"width\":650},                        {\"responsive\": true}                    ).then(function(){\n",
              "                            \n",
              "var gd = document.getElementById('fa4ce8d8-9def-4691-a4dc-b8afd5168956');\n",
              "var x = new MutationObserver(function (mutations, observer) {{\n",
              "        var display = window.getComputedStyle(gd).display;\n",
              "        if (!display || display === 'none') {{\n",
              "            console.log([gd, 'removed!']);\n",
              "            Plotly.purge(gd);\n",
              "            observer.disconnect();\n",
              "        }}\n",
              "}});\n",
              "\n",
              "// Listen for the removal of the full notebook cells\n",
              "var notebookContainer = gd.closest('#notebook-container');\n",
              "if (notebookContainer) {{\n",
              "    x.observe(notebookContainer, {childList: true});\n",
              "}}\n",
              "\n",
              "// Listen for the clearing of the current output cell\n",
              "var outputEl = gd.closest('.output');\n",
              "if (outputEl) {{\n",
              "    x.observe(outputEl, {childList: true});\n",
              "}}\n",
              "\n",
              "                        })                };                            </script>        </div>\n",
              "</body>\n",
              "</html>"
            ]
          },
          "metadata": {}
        }
      ],
      "source": [
        "pca = PCA(n_components=3)\n",
        "components = pca.fit_transform(X)\n",
        "\n",
        "fig = px.scatter_3d(\n",
        "    components, x=0, y=1, z=2, color=clusters, size=0.1*np.ones(len(X)), opacity = 1,\n",
        "    title='PCA plot in 3D',\n",
        "    labels={'0': 'PC 1', '1': 'PC 2', '2': 'PC 3'},\n",
        "    width=650, height=500\n",
        ")\n",
        "fig.show()"
      ]
    },
    {
      "cell_type": "markdown",
      "id": "470bf469",
      "metadata": {
        "papermill": {
          "duration": 0.045091,
          "end_time": "2022-05-05T08:31:14.908763",
          "exception": false,
          "start_time": "2022-05-05T08:31:14.863672",
          "status": "completed"
        },
        "tags": [],
        "id": "470bf469"
      },
      "source": [
        "# t-SNE для k-средних"
      ]
    },
    {
      "cell_type": "code",
      "execution_count": null,
      "id": "fe2e03bf",
      "metadata": {
        "_kg_hide-input": false,
        "execution": {
          "iopub.execute_input": "2022-05-05T08:31:15.088708Z",
          "iopub.status.busy": "2022-05-05T08:31:15.087430Z",
          "iopub.status.idle": "2022-05-05T08:31:15.827020Z",
          "shell.execute_reply": "2022-05-05T08:31:15.827793Z",
          "shell.execute_reply.started": "2022-03-24T16:30:10.355724Z"
        },
        "papermill": {
          "duration": 0.79204,
          "end_time": "2022-05-05T08:31:15.828057",
          "exception": false,
          "start_time": "2022-05-05T08:31:15.036017",
          "status": "completed"
        },
        "tags": [],
        "colab": {
          "base_uri": "https://localhost:8080/",
          "height": 223
        },
        "id": "fe2e03bf",
        "outputId": "3e2dfb1a-6c13-4d35-b8b7-fb6687dfe77b"
      },
      "outputs": [
        {
          "output_type": "stream",
          "name": "stdout",
          "text": [
            "(178, 2)\n"
          ]
        },
        {
          "output_type": "execute_result",
          "data": {
            "text/plain": [
              "   tsne comp. 1  tsne comp. 2\n",
              "0      6.291462     10.863050\n",
              "1      5.252361      6.986454\n",
              "2     10.172634      7.496029\n",
              "3      8.886796     10.753553\n",
              "4      9.283913      3.170709"
            ],
            "text/html": [
              "\n",
              "  <div id=\"df-63d7f10d-da01-4607-9295-cf0efbed7121\" class=\"colab-df-container\">\n",
              "    <div>\n",
              "<style scoped>\n",
              "    .dataframe tbody tr th:only-of-type {\n",
              "        vertical-align: middle;\n",
              "    }\n",
              "\n",
              "    .dataframe tbody tr th {\n",
              "        vertical-align: top;\n",
              "    }\n",
              "\n",
              "    .dataframe thead th {\n",
              "        text-align: right;\n",
              "    }\n",
              "</style>\n",
              "<table border=\"1\" class=\"dataframe\">\n",
              "  <thead>\n",
              "    <tr style=\"text-align: right;\">\n",
              "      <th></th>\n",
              "      <th>tsne comp. 1</th>\n",
              "      <th>tsne comp. 2</th>\n",
              "    </tr>\n",
              "  </thead>\n",
              "  <tbody>\n",
              "    <tr>\n",
              "      <th>0</th>\n",
              "      <td>6.291462</td>\n",
              "      <td>10.863050</td>\n",
              "    </tr>\n",
              "    <tr>\n",
              "      <th>1</th>\n",
              "      <td>5.252361</td>\n",
              "      <td>6.986454</td>\n",
              "    </tr>\n",
              "    <tr>\n",
              "      <th>2</th>\n",
              "      <td>10.172634</td>\n",
              "      <td>7.496029</td>\n",
              "    </tr>\n",
              "    <tr>\n",
              "      <th>3</th>\n",
              "      <td>8.886796</td>\n",
              "      <td>10.753553</td>\n",
              "    </tr>\n",
              "    <tr>\n",
              "      <th>4</th>\n",
              "      <td>9.283913</td>\n",
              "      <td>3.170709</td>\n",
              "    </tr>\n",
              "  </tbody>\n",
              "</table>\n",
              "</div>\n",
              "    <div class=\"colab-df-buttons\">\n",
              "\n",
              "  <div class=\"colab-df-container\">\n",
              "    <button class=\"colab-df-convert\" onclick=\"convertToInteractive('df-63d7f10d-da01-4607-9295-cf0efbed7121')\"\n",
              "            title=\"Convert this dataframe to an interactive table.\"\n",
              "            style=\"display:none;\">\n",
              "\n",
              "  <svg xmlns=\"http://www.w3.org/2000/svg\" height=\"24px\" viewBox=\"0 -960 960 960\">\n",
              "    <path d=\"M120-120v-720h720v720H120Zm60-500h600v-160H180v160Zm220 220h160v-160H400v160Zm0 220h160v-160H400v160ZM180-400h160v-160H180v160Zm440 0h160v-160H620v160ZM180-180h160v-160H180v160Zm440 0h160v-160H620v160Z\"/>\n",
              "  </svg>\n",
              "    </button>\n",
              "\n",
              "  <style>\n",
              "    .colab-df-container {\n",
              "      display:flex;\n",
              "      gap: 12px;\n",
              "    }\n",
              "\n",
              "    .colab-df-convert {\n",
              "      background-color: #E8F0FE;\n",
              "      border: none;\n",
              "      border-radius: 50%;\n",
              "      cursor: pointer;\n",
              "      display: none;\n",
              "      fill: #1967D2;\n",
              "      height: 32px;\n",
              "      padding: 0 0 0 0;\n",
              "      width: 32px;\n",
              "    }\n",
              "\n",
              "    .colab-df-convert:hover {\n",
              "      background-color: #E2EBFA;\n",
              "      box-shadow: 0px 1px 2px rgba(60, 64, 67, 0.3), 0px 1px 3px 1px rgba(60, 64, 67, 0.15);\n",
              "      fill: #174EA6;\n",
              "    }\n",
              "\n",
              "    .colab-df-buttons div {\n",
              "      margin-bottom: 4px;\n",
              "    }\n",
              "\n",
              "    [theme=dark] .colab-df-convert {\n",
              "      background-color: #3B4455;\n",
              "      fill: #D2E3FC;\n",
              "    }\n",
              "\n",
              "    [theme=dark] .colab-df-convert:hover {\n",
              "      background-color: #434B5C;\n",
              "      box-shadow: 0px 1px 3px 1px rgba(0, 0, 0, 0.15);\n",
              "      filter: drop-shadow(0px 1px 2px rgba(0, 0, 0, 0.3));\n",
              "      fill: #FFFFFF;\n",
              "    }\n",
              "  </style>\n",
              "\n",
              "    <script>\n",
              "      const buttonEl =\n",
              "        document.querySelector('#df-63d7f10d-da01-4607-9295-cf0efbed7121 button.colab-df-convert');\n",
              "      buttonEl.style.display =\n",
              "        google.colab.kernel.accessAllowed ? 'block' : 'none';\n",
              "\n",
              "      async function convertToInteractive(key) {\n",
              "        const element = document.querySelector('#df-63d7f10d-da01-4607-9295-cf0efbed7121');\n",
              "        const dataTable =\n",
              "          await google.colab.kernel.invokeFunction('convertToInteractive',\n",
              "                                                    [key], {});\n",
              "        if (!dataTable) return;\n",
              "\n",
              "        const docLinkHtml = 'Like what you see? Visit the ' +\n",
              "          '<a target=\"_blank\" href=https://colab.research.google.com/notebooks/data_table.ipynb>data table notebook</a>'\n",
              "          + ' to learn more about interactive tables.';\n",
              "        element.innerHTML = '';\n",
              "        dataTable['output_type'] = 'display_data';\n",
              "        await google.colab.output.renderOutput(dataTable, element);\n",
              "        const docLink = document.createElement('div');\n",
              "        docLink.innerHTML = docLinkHtml;\n",
              "        element.appendChild(docLink);\n",
              "      }\n",
              "    </script>\n",
              "  </div>\n",
              "\n",
              "\n",
              "<div id=\"df-f9bfd263-1e06-4e17-9182-766f2e05f466\">\n",
              "  <button class=\"colab-df-quickchart\" onclick=\"quickchart('df-f9bfd263-1e06-4e17-9182-766f2e05f466')\"\n",
              "            title=\"Suggest charts\"\n",
              "            style=\"display:none;\">\n",
              "\n",
              "<svg xmlns=\"http://www.w3.org/2000/svg\" height=\"24px\"viewBox=\"0 0 24 24\"\n",
              "     width=\"24px\">\n",
              "    <g>\n",
              "        <path d=\"M19 3H5c-1.1 0-2 .9-2 2v14c0 1.1.9 2 2 2h14c1.1 0 2-.9 2-2V5c0-1.1-.9-2-2-2zM9 17H7v-7h2v7zm4 0h-2V7h2v10zm4 0h-2v-4h2v4z\"/>\n",
              "    </g>\n",
              "</svg>\n",
              "  </button>\n",
              "\n",
              "<style>\n",
              "  .colab-df-quickchart {\n",
              "      --bg-color: #E8F0FE;\n",
              "      --fill-color: #1967D2;\n",
              "      --hover-bg-color: #E2EBFA;\n",
              "      --hover-fill-color: #174EA6;\n",
              "      --disabled-fill-color: #AAA;\n",
              "      --disabled-bg-color: #DDD;\n",
              "  }\n",
              "\n",
              "  [theme=dark] .colab-df-quickchart {\n",
              "      --bg-color: #3B4455;\n",
              "      --fill-color: #D2E3FC;\n",
              "      --hover-bg-color: #434B5C;\n",
              "      --hover-fill-color: #FFFFFF;\n",
              "      --disabled-bg-color: #3B4455;\n",
              "      --disabled-fill-color: #666;\n",
              "  }\n",
              "\n",
              "  .colab-df-quickchart {\n",
              "    background-color: var(--bg-color);\n",
              "    border: none;\n",
              "    border-radius: 50%;\n",
              "    cursor: pointer;\n",
              "    display: none;\n",
              "    fill: var(--fill-color);\n",
              "    height: 32px;\n",
              "    padding: 0;\n",
              "    width: 32px;\n",
              "  }\n",
              "\n",
              "  .colab-df-quickchart:hover {\n",
              "    background-color: var(--hover-bg-color);\n",
              "    box-shadow: 0 1px 2px rgba(60, 64, 67, 0.3), 0 1px 3px 1px rgba(60, 64, 67, 0.15);\n",
              "    fill: var(--button-hover-fill-color);\n",
              "  }\n",
              "\n",
              "  .colab-df-quickchart-complete:disabled,\n",
              "  .colab-df-quickchart-complete:disabled:hover {\n",
              "    background-color: var(--disabled-bg-color);\n",
              "    fill: var(--disabled-fill-color);\n",
              "    box-shadow: none;\n",
              "  }\n",
              "\n",
              "  .colab-df-spinner {\n",
              "    border: 2px solid var(--fill-color);\n",
              "    border-color: transparent;\n",
              "    border-bottom-color: var(--fill-color);\n",
              "    animation:\n",
              "      spin 1s steps(1) infinite;\n",
              "  }\n",
              "\n",
              "  @keyframes spin {\n",
              "    0% {\n",
              "      border-color: transparent;\n",
              "      border-bottom-color: var(--fill-color);\n",
              "      border-left-color: var(--fill-color);\n",
              "    }\n",
              "    20% {\n",
              "      border-color: transparent;\n",
              "      border-left-color: var(--fill-color);\n",
              "      border-top-color: var(--fill-color);\n",
              "    }\n",
              "    30% {\n",
              "      border-color: transparent;\n",
              "      border-left-color: var(--fill-color);\n",
              "      border-top-color: var(--fill-color);\n",
              "      border-right-color: var(--fill-color);\n",
              "    }\n",
              "    40% {\n",
              "      border-color: transparent;\n",
              "      border-right-color: var(--fill-color);\n",
              "      border-top-color: var(--fill-color);\n",
              "    }\n",
              "    60% {\n",
              "      border-color: transparent;\n",
              "      border-right-color: var(--fill-color);\n",
              "    }\n",
              "    80% {\n",
              "      border-color: transparent;\n",
              "      border-right-color: var(--fill-color);\n",
              "      border-bottom-color: var(--fill-color);\n",
              "    }\n",
              "    90% {\n",
              "      border-color: transparent;\n",
              "      border-bottom-color: var(--fill-color);\n",
              "    }\n",
              "  }\n",
              "</style>\n",
              "\n",
              "  <script>\n",
              "    async function quickchart(key) {\n",
              "      const quickchartButtonEl =\n",
              "        document.querySelector('#' + key + ' button');\n",
              "      quickchartButtonEl.disabled = true;  // To prevent multiple clicks.\n",
              "      quickchartButtonEl.classList.add('colab-df-spinner');\n",
              "      try {\n",
              "        const charts = await google.colab.kernel.invokeFunction(\n",
              "            'suggestCharts', [key], {});\n",
              "      } catch (error) {\n",
              "        console.error('Error during call to suggestCharts:', error);\n",
              "      }\n",
              "      quickchartButtonEl.classList.remove('colab-df-spinner');\n",
              "      quickchartButtonEl.classList.add('colab-df-quickchart-complete');\n",
              "    }\n",
              "    (() => {\n",
              "      let quickchartButtonEl =\n",
              "        document.querySelector('#df-f9bfd263-1e06-4e17-9182-766f2e05f466 button');\n",
              "      quickchartButtonEl.style.display =\n",
              "        google.colab.kernel.accessAllowed ? 'block' : 'none';\n",
              "    })();\n",
              "  </script>\n",
              "</div>\n",
              "    </div>\n",
              "  </div>\n"
            ],
            "application/vnd.google.colaboratory.intrinsic+json": {
              "type": "dataframe",
              "variable_name": "tsne_df",
              "summary": "{\n  \"name\": \"tsne_df\",\n  \"rows\": 178,\n  \"fields\": [\n    {\n      \"column\": \"tsne comp. 1\",\n      \"properties\": {\n        \"dtype\": \"float32\",\n        \"num_unique_values\": 178,\n        \"samples\": [\n          4.503890037536621,\n          3.6598925590515137,\n          -8.080314636230469\n        ],\n        \"semantic_type\": \"\",\n        \"description\": \"\"\n      }\n    },\n    {\n      \"column\": \"tsne comp. 2\",\n      \"properties\": {\n        \"dtype\": \"float32\",\n        \"num_unique_values\": 178,\n        \"samples\": [\n          9.449409484863281,\n          7.97044563293457,\n          -8.911005020141602\n        ],\n        \"semantic_type\": \"\",\n        \"description\": \"\"\n      }\n    }\n  ]\n}"
            }
          },
          "metadata": {},
          "execution_count": 236
        }
      ],
      "source": [
        "tsne = TSNE(n_components=2)\n",
        "X_tsne = tsne.fit_transform(X)\n",
        "\n",
        "tsne_df = pd.DataFrame(data = X_tsne, columns = ['tsne comp. 1', 'tsne comp. 2'])\n",
        "\n",
        "print(tsne_df.shape)\n",
        "tsne_df.head()"
      ]
    },
    {
      "cell_type": "markdown",
      "id": "c84e1a29",
      "metadata": {
        "papermill": {
          "duration": 0.052915,
          "end_time": "2022-05-05T08:31:15.936291",
          "exception": false,
          "start_time": "2022-05-05T08:31:15.883376",
          "status": "completed"
        },
        "tags": [],
        "id": "c84e1a29"
      },
      "source": [
        "**t-SNE plot in 2D coloured by class**"
      ]
    },
    {
      "cell_type": "code",
      "execution_count": null,
      "id": "254a4945",
      "metadata": {
        "_kg_hide-input": false,
        "execution": {
          "iopub.execute_input": "2022-05-05T08:31:16.560418Z",
          "iopub.status.busy": "2022-05-05T08:31:16.559572Z",
          "iopub.status.idle": "2022-05-05T08:31:16.878572Z",
          "shell.execute_reply": "2022-05-05T08:31:16.879566Z",
          "shell.execute_reply.started": "2022-03-24T16:30:10.987051Z"
        },
        "papermill": {
          "duration": 0.789202,
          "end_time": "2022-05-05T08:31:16.879781",
          "exception": false,
          "start_time": "2022-05-05T08:31:16.090579",
          "status": "completed"
        },
        "tags": [],
        "colab": {
          "base_uri": "https://localhost:8080/",
          "height": 593
        },
        "id": "254a4945",
        "outputId": "e5c8af1a-d4f4-42ce-8ae6-b0e69421e86e"
      },
      "outputs": [
        {
          "output_type": "execute_result",
          "data": {
            "text/plain": [
              "Text(0, 0.5, 'tsne component 2')"
            ]
          },
          "metadata": {},
          "execution_count": 237
        },
        {
          "output_type": "display_data",
          "data": {
            "text/plain": [
              "<Figure size 800x600 with 1 Axes>"
            ],
            "image/png": "[encoded data removed]"
          },
          "metadata": {}
        }
      ],
      "source": [
        "plt.figure(figsize=(8,6))\n",
        "\n",
        "plt.scatter(tsne_df.iloc[:,0], tsne_df.iloc[:,1], c=clusters, cmap=\"brg\", s=40)\n",
        "\n",
        "plt.title('t-SNE plot in 2D')\n",
        "plt.xlabel('tsne component 1')\n",
        "plt.ylabel('tsne component 2')"
      ]
    },
    {
      "cell_type": "code",
      "source": [
        "silhouette_avg = silhouette_score(X_tsne, clusters)\n",
        "print(f\"Silhouette Score: {silhouette_avg}\")"
      ],
      "metadata": {
        "colab": {
          "base_uri": "https://localhost:8080/"
        },
        "id": "jSm41n_kXXmD",
        "outputId": "34c26583-e106-4ba4-ee31-636b69952608"
      },
      "id": "jSm41n_kXXmD",
      "execution_count": null,
      "outputs": [
        {
          "output_type": "stream",
          "name": "stdout",
          "text": [
            "Silhouette Score: 0.5945177674293518\n"
          ]
        }
      ]
    },
    {
      "cell_type": "markdown",
      "id": "de973f3e",
      "metadata": {
        "papermill": {
          "duration": 0.045325,
          "end_time": "2022-05-05T08:31:17.085772",
          "exception": false,
          "start_time": "2022-05-05T08:31:17.040447",
          "status": "completed"
        },
        "tags": [],
        "id": "de973f3e"
      },
      "source": [
        "**t-SNE plot in 3D**"
      ]
    },
    {
      "cell_type": "code",
      "execution_count": null,
      "id": "610adcc2",
      "metadata": {
        "execution": {
          "iopub.execute_input": "2022-05-05T08:31:17.185904Z",
          "iopub.status.busy": "2022-05-05T08:31:17.184642Z",
          "iopub.status.idle": "2022-05-05T08:31:19.142393Z",
          "shell.execute_reply": "2022-05-05T08:31:19.143387Z",
          "shell.execute_reply.started": "2022-03-24T16:30:11.829006Z"
        },
        "papermill": {
          "duration": 2.013046,
          "end_time": "2022-05-05T08:31:19.143604",
          "exception": false,
          "start_time": "2022-05-05T08:31:17.130558",
          "status": "completed"
        },
        "tags": [],
        "colab": {
          "base_uri": "https://localhost:8080/",
          "height": 517
        },
        "id": "610adcc2",
        "outputId": "a6518e59-6fe9-4b66-f9d6-3dcbbd4adbae"
      },
      "outputs": [
        {
          "output_type": "display_data",
          "data": {
            "text/html": [
              "<html>\n",
              "<head><meta charset=\"utf-8\" /></head>\n",
              "<body>\n",
              "    <div>            <script src=\"https://cdnjs.cloudflare.com/ajax/libs/mathjax/2.7.5/MathJax.js?config=TeX-AMS-MML_SVG\"></script><script type=\"text/javascript\">if (window.MathJax && window.MathJax.Hub && window.MathJax.Hub.Config) {window.MathJax.Hub.Config({SVG: {font: \"STIX-Web\"}});}</script>                <script type=\"text/javascript\">window.PlotlyConfig = {MathJaxConfig: 'local'};</script>\n",
              "        <script charset=\"utf-8\" src=\"https://cdn.plot.ly/plotly-2.24.1.min.js\"></script>                <div id=\"4f9371aa-b08e-41e1-969a-3b9594719e1d\" class=\"plotly-graph-div\" style=\"height:500px; width:650px;\"></div>            <script type=\"text/javascript\">                                    window.PLOTLYENV=window.PLOTLYENV || {};                                    if (document.getElementById(\"4f9371aa-b08e-41e1-969a-3b9594719e1d\")) {                    Plotly.newPlot(                        \"4f9371aa-b08e-41e1-969a-3b9594719e1d\",                        [{\"hovertemplate\":\"comp. 1=%{x}\\u003cbr\\u003ecomp. 2=%{y}\\u003cbr\\u003ecomp. 3=%{z}\\u003cbr\\u003esize=%{marker.size}\\u003cbr\\u003ecolor=%{marker.color}\\u003cextra\\u003e\\u003c\\u002fextra\\u003e\",\"legendgroup\":\"\",\"marker\":{\"color\":[2,2,2,2,2,2,2,2,2,2,2,2,2,2,2,2,2,2,2,2,2,2,2,2,2,2,2,2,2,2,2,2,2,2,2,2,2,2,2,2,2,2,2,2,2,2,2,2,2,2,2,2,2,2,2,2,2,2,2,1,1,0,1,1,1,1,1,1,1,1,1,1,1,2,1,1,1,1,1,1,1,1,1,0,1,1,1,1,1,1,1,1,1,1,1,2,1,1,1,1,1,1,1,1,1,1,1,1,1,1,1,1,1,1,1,1,1,1,0,1,1,2,1,1,1,1,1,1,1,1,0,0,0,0,0,0,0,0,0,0,0,0,0,0,0,0,0,0,0,0,0,0,0,0,0,0,0,0,0,0,0,0,0,0,0,0,0,0,0,0,0,0,0,0,0,0,0,0],\"coloraxis\":\"coloraxis\",\"opacity\":1,\"size\":[0.1,0.1,0.1,0.1,0.1,0.1,0.1,0.1,0.1,0.1,0.1,0.1,0.1,0.1,0.1,0.1,0.1,0.1,0.1,0.1,0.1,0.1,0.1,0.1,0.1,0.1,0.1,0.1,0.1,0.1,0.1,0.1,0.1,0.1,0.1,0.1,0.1,0.1,0.1,0.1,0.1,0.1,0.1,0.1,0.1,0.1,0.1,0.1,0.1,0.1,0.1,0.1,0.1,0.1,0.1,0.1,0.1,0.1,0.1,0.1,0.1,0.1,0.1,0.1,0.1,0.1,0.1,0.1,0.1,0.1,0.1,0.1,0.1,0.1,0.1,0.1,0.1,0.1,0.1,0.1,0.1,0.1,0.1,0.1,0.1,0.1,0.1,0.1,0.1,0.1,0.1,0.1,0.1,0.1,0.1,0.1,0.1,0.1,0.1,0.1,0.1,0.1,0.1,0.1,0.1,0.1,0.1,0.1,0.1,0.1,0.1,0.1,0.1,0.1,0.1,0.1,0.1,0.1,0.1,0.1,0.1,0.1,0.1,0.1,0.1,0.1,0.1,0.1,0.1,0.1,0.1,0.1,0.1,0.1,0.1,0.1,0.1,0.1,0.1,0.1,0.1,0.1,0.1,0.1,0.1,0.1,0.1,0.1,0.1,0.1,0.1,0.1,0.1,0.1,0.1,0.1,0.1,0.1,0.1,0.1,0.1,0.1,0.1,0.1,0.1,0.1,0.1,0.1,0.1,0.1,0.1,0.1,0.1,0.1,0.1,0.1,0.1,0.1],\"sizemode\":\"area\",\"sizeref\":0.00025,\"symbol\":\"circle\"},\"mode\":\"markers\",\"name\":\"\",\"scene\":\"scene\",\"showlegend\":false,\"x\":[47.73832321166992,29.497461318969727,27.61509132385254,43.48396682739258,1.1464860439300537,40.493343353271484,32.976417541503906,2.0750272274017334,42.35958480834961,40.37446594238281,29.100574493408203,22.63081169128418,21.790468215942383,42.89277267456055,44.216793060302734,13.186591148376465,18.644187927246094,13.513938903808594,31.78821563720703,38.97823715209961,49.4492073059082,27.066997528076172,29.217695236206055,17.68031120300293,15.997305870056152,-0.7737628817558289,20.837663650512695,20.077747344970703,11.51042366027832,34.90616989135742,22.404804229736328,28.84231948852539,8.288276672363281,3.2953474521636963,8.306589126586914,25.454862594604492,0.32270491123199463,9.97228717803955,16.625736236572266,39.777870178222656,55.87095642089844,32.90397644042969,50.82538604736328,33.94619369506836,52.939361572265625,44.01897048950195,45.93827819824219,49.337467193603516,29.7181339263916,35.85053634643555,55.07266616821289,25.621707916259766,51.667396545410156,13.12792682647705,40.85212326049805,34.8507080078125,44.83275604248047,19.210058212280273,43.307762145996094,-15.74899959564209,-28.66368865966797,-29.015729904174805,-15.85052490234375,19.20273780822754,-7.854396820068359,-0.12741206586360931,7.37593936920166,-4.028175354003906,-32.899295806884766,53.35301208496094,-15.061408042907715,13.36638355255127,-5.628113746643066,10.633563995361328,31.53156089782715,-12.378832817077637,-6.410488128662109,-16.016990661621094,58.99708938598633,24.265844345092773,5.121176719665527,8.597887992858887,10.003151893615723,-24.46518325805664,33.678733825683594,13.18414306640625,0.684369683265686,3.619385242462158,5.157354831695557,16.11323356628418,-3.771786689758301,-5.252224445343018,-12.764365196228027,17.597606658935547,21.771772384643555,58.24699020385742,-13.485815048217773,8.184791564941406,21.257858276367188,35.92388916015625,-1.456329345703125,-7.914307117462158,20.076854705810547,-0.16478319466114044,2.840221643447876,-6.032361030578613,-2.9785990715026855,-5.32343053817749,11.004671096801758,37.662139892578125,25.62453269958496,14.577505111694336,-12.104947090148926,10.65473461151123,17.459230422973633,5.207301139831543,3.969576358795166,7.570641994476318,-24.273590087890625,2.795560359954834,27.079429626464844,-7.16223669052124,14.720025062561035,16.96367835998535,25.939428329467773,14.518647193908691,22.49869728088379,5.866086006164551,8.622918128967285,6.123132228851318,-21.78182601928711,-29.657678604125977,-28.373510360717773,-31.093286514282227,-38.45930099487305,-40.25090789794922,-33.16209411621094,-40.40275573730469,-33.467681884765625,-29.861892700195312,-23.50221824645996,-25.862751007080078,-25.692903518676758,-34.5037727355957,-42.23286819458008,-36.99457931518555,-41.129600524902344,-46.7855110168457,-51.85220718383789,-45.40873718261719,-41.17649841308594,-49.45374298095703,-37.65188980102539,-65.69043731689453,-43.57223129272461,-53.4033203125,-59.08861541748047,-43.335472106933594,-69.85480499267578,-71.88912200927734,-53.37065505981445,-34.67912292480469,-31.50359535217285,-35.75834274291992,-50.248992919921875,-38.29411315917969,-56.449241638183594,-49.38747024536133,-47.917457580566406,-50.85253143310547,-30.096153259277344,-54.40312957763672,-59.11814498901367,-47.34694290161133,-46.470035552978516,-55.066837310791016,-63.019935607910156,-55.92300033569336],\"y\":[6.274865627288818,28.026371002197266,6.903018951416016,29.253475189208984,11.524550437927246,37.77212905883789,35.299041748046875,31.37718391418457,35.33980941772461,25.19762420654297,41.27511978149414,38.457237243652344,34.468135833740234,47.53462600708008,45.268428802490234,38.40508270263672,25.08616828918457,21.052642822265625,40.015357971191406,0.3236105740070343,4.205744743347168,-0.8552845120429993,16.845834732055664,14.276461601257324,7.950109481811523,8.338642120361328,23.245819091796875,27.328847885131836,12.782930374145508,25.728229522705078,13.534753799438477,30.440776824951172,35.18891906738281,25.0789852142334,24.701520919799805,10.639854431152344,17.58357810974121,23.0247802734375,28.378625869750977,-5.676092147827148,13.625153541564941,8.568482398986816,27.320663452148438,-0.5069891214370728,13.463364601135254,4.787134647369385,19.368274688720703,24.0465145111084,19.212541580200195,31.55569839477539,36.36774826049805,43.83512496948242,33.627784729003906,32.5084342956543,12.428346633911133,15.175849914550781,15.11201286315918,28.500938415527344,24.757034301757812,16.95174217224121,1.2583078145980835,4.420141220092773,17.307292938232422,24.41962432861328,-14.418289184570312,21.685667037963867,27.947542190551758,15.053235054016113,9.825916290283203,-18.190149307250977,-19.25074577331543,-1.6185094118118286,4.706085205078125,3.121960163116455,18.886463165283203,3.5900988578796387,19.905141830444336,-8.783153533935547,-11.639893531799316,-30.917713165283203,21.377965927124023,13.822035789489746,-22.86168670654297,-5.224302291870117,1.972518801689148,13.880149841308594,-17.20987319946289,-30.857555389404297,-22.225751876831055,-26.644817352294922,-10.78428840637207,-21.73314094543457,-13.146783828735352,4.654653072357178,13.335673332214355,-12.294544219970703,-34.64963912963867,15.138461112976074,29.33852195739746,-26.516006469726562,10.903241157531738,5.542989730834961,-17.605018615722656,-3.3025052547454834,6.578282833099365,-29.08547019958496,-3.7601394653320312,-16.621030807495117,-4.545494556427002,-6.491979598999023,-10.29097843170166,-0.011873781681060791,-25.784852981567383,-12.63051986694336,-17.665782928466797,-21.775285720825195,-0.1501511186361313,-1.1712985038757324,-3.321281671524048,-13.64057445526123,-9.852235794067383,-0.03596027195453644,-34.57485580444336,-25.83016014099121,-18.414260864257812,-9.08756160736084,-7.680875301361084,-36.78413391113281,-11.69007396697998,-25.094806671142578,-26.88088607788086,-26.517963409423828,-33.89954376220703,-35.374000549316406,7.771591663360596,-0.6301504969596863,-8.923874855041504,-17.83422088623047,-2.765157699584961,-33.209678649902344,-23.287935256958008,-19.932109832763672,-33.04817199707031,-12.584081649780273,-22.56900978088379,-13.581561088562012,8.623477935791016,-6.485766410827637,-12.583888053894043,-31.709753036499023,-42.988651275634766,-41.04085159301758,-43.21784973144531,-11.139089584350586,-2.4814212322235107,-4.215993404388428,-12.465347290039062,-31.042720794677734,-32.148162841796875,-23.69000244140625,-0.5059803128242493,-25.675230026245117,-23.08500862121582,-20.822956085205078,-22.071325302124023,-2.1834733486175537,-33.90064239501953,-13.666191101074219,-33.47896957397461,-45.28709030151367,-13.213545799255371,-3.993070363998413,-21.930797576904297,-13.41054630279541,-21.61203956604004,-27.192907333374023,-20.661577224731445,-25.19707489013672],\"z\":[34.299835205078125,-5.726810455322266,33.124263763427734,46.806217193603516,31.209096908569336,37.26300048828125,13.161245346069336,30.206533432006836,5.584858417510986,18.754825592041016,31.43881607055664,5.051664352416992,14.888218879699707,14.926742553710938,25.812145233154297,29.062774658203125,45.1499137878418,36.3658561706543,44.84244918823242,14.267241477966309,24.120363235473633,8.891375541687012,9.302264213562012,6.868675231933594,15.279064178466797,40.56146240234375,17.693605422973633,3.17754864692688,26.825382232666016,7.600619316101074,41.71993637084961,36.64219284057617,10.514776229858398,42.394859313964844,21.412002563476562,18.926376342773438,19.31450653076172,10.767744064331055,-6.0815110206604,22.99627685546875,24.481159210205078,-3.678177833557129,26.6438045501709,-0.20337527990341187,12.958165168762207,1.9695247411727905,1.4816646575927734,13.807636260986328,28.976306915283203,27.878108978271484,14.038064002990723,19.7352294921875,38.02998352050781,37.73670959472656,17.008525848388672,38.56770706176758,26.726701736450195,27.20184898376465,35.998817443847656,-34.639225006103516,-38.17662048339844,-27.67323875427246,-19.019399642944336,-25.489421844482422,18.70107650756836,4.341562747955322,-32.74433135986328,-12.732828140258789,-37.413265228271484,7.077628135681152,-20.611684799194336,22.161527633666992,-1.7549116611480713,42.80999755859375,-25.6896915435791,-31.306020736694336,-25.563241958618164,-28.01974868774414,4.584835529327393,-14.308734893798828,-18.716787338256836,-5.72665548324585,13.266530990600586,6.1752400398254395,-22.77279281616211,-15.564982414245605,12.16632080078125,11.87502384185791,-0.7445542812347412,4.886677265167236,2.335270881652832,2.3011631965637207,-2.475531578063965,-24.198410034179688,-30.477380752563477,14.157197952270508,-30.595436096191406,-27.023677825927734,-32.69295883178711,-13.203861236572266,-32.213462829589844,-20.331707000732422,-14.969066619873047,-31.513959884643555,-13.41479778289795,-8.01720905303955,-13.793831825256348,-8.495859146118164,-30.756248474121094,-21.946935653686523,-38.78254318237305,-13.439981460571289,16.941574096679688,6.299919128417969,-3.0157878398895264,26.07545280456543,-21.510902404785156,-3.139176368713379,-12.94285774230957,-23.948604583740234,-20.838987350463867,37.04579544067383,-12.50240707397461,-29.58031463623047,-31.861658096313477,-18.365171432495117,-8.846426963806152,-1.3592705726623535,-8.272209167480469,-18.399049758911133,-31.32207679748535,-23.431650161743164,-16.04372215270996,-27.54331398010254,-21.02652931213379,-15.170716285705566,18.703231811523438,20.94391441345215,-3.1528728008270264,11.919550895690918,4.7190728187561035,-9.19960880279541,1.8290846347808838,4.583206653594971,-28.277997970581055,-8.656645774841309,3.464686632156372,0.48352667689323425,-7.532456874847412,-19.57862091064453,-16.92098617553711,-24.345104217529297,-6.61759090423584,-10.415966033935547,-26.079423904418945,10.952038764953613,1.5153099298477173,13.446430206298828,1.0621639490127563,-1.5769016742706299,-5.3996076583862305,0.6444119215011597,11.650136947631836,-15.54240608215332,-12.7501802444458,7.654890060424805,-11.22914981842041,-19.70588493347168,-3.7419028282165527,-8.386518478393555,-19.944313049316406,-18.482894897460938,-6.646629810333252,9.894952774047852,-1.1361653804779053,-25.332496643066406,-20.171533584594727,6.8346638679504395],\"type\":\"scatter3d\"}],                        {\"template\":{\"data\":{\"histogram2dcontour\":[{\"type\":\"histogram2dcontour\",\"colorbar\":{\"outlinewidth\":0,\"ticks\":\"\"},\"colorscale\":[[0.0,\"#0d0887\"],[0.1111111111111111,\"#46039f\"],[0.2222222222222222,\"#7201a8\"],[0.3333333333333333,\"#9c179e\"],[0.4444444444444444,\"#bd3786\"],[0.5555555555555556,\"#d8576b\"],[0.6666666666666666,\"#ed7953\"],[0.7777777777777778,\"#fb9f3a\"],[0.8888888888888888,\"#fdca26\"],[1.0,\"#f0f921\"]]}],\"choropleth\":[{\"type\":\"choropleth\",\"colorbar\":{\"outlinewidth\":0,\"ticks\":\"\"}}],\"histogram2d\":[{\"type\":\"histogram2d\",\"colorbar\":{\"outlinewidth\":0,\"ticks\":\"\"},\"colorscale\":[[0.0,\"#0d0887\"],[0.1111111111111111,\"#46039f\"],[0.2222222222222222,\"#7201a8\"],[0.3333333333333333,\"#9c179e\"],[0.4444444444444444,\"#bd3786\"],[0.5555555555555556,\"#d8576b\"],[0.6666666666666666,\"#ed7953\"],[0.7777777777777778,\"#fb9f3a\"],[0.8888888888888888,\"#fdca26\"],[1.0,\"#f0f921\"]]}],\"heatmap\":[{\"type\":\"heatmap\",\"colorbar\":{\"outlinewidth\":0,\"ticks\":\"\"},\"colorscale\":[[0.0,\"#0d0887\"],[0.1111111111111111,\"#46039f\"],[0.2222222222222222,\"#7201a8\"],[0.3333333333333333,\"#9c179e\"],[0.4444444444444444,\"#bd3786\"],[0.5555555555555556,\"#d8576b\"],[0.6666666666666666,\"#ed7953\"],[0.7777777777777778,\"#fb9f3a\"],[0.8888888888888888,\"#fdca26\"],[1.0,\"#f0f921\"]]}],\"heatmapgl\":[{\"type\":\"heatmapgl\",\"colorbar\":{\"outlinewidth\":0,\"ticks\":\"\"},\"colorscale\":[[0.0,\"#0d0887\"],[0.1111111111111111,\"#46039f\"],[0.2222222222222222,\"#7201a8\"],[0.3333333333333333,\"#9c179e\"],[0.4444444444444444,\"#bd3786\"],[0.5555555555555556,\"#d8576b\"],[0.6666666666666666,\"#ed7953\"],[0.7777777777777778,\"#fb9f3a\"],[0.8888888888888888,\"#fdca26\"],[1.0,\"#f0f921\"]]}],\"contourcarpet\":[{\"type\":\"contourcarpet\",\"colorbar\":{\"outlinewidth\":0,\"ticks\":\"\"}}],\"contour\":[{\"type\":\"contour\",\"colorbar\":{\"outlinewidth\":0,\"ticks\":\"\"},\"colorscale\":[[0.0,\"#0d0887\"],[0.1111111111111111,\"#46039f\"],[0.2222222222222222,\"#7201a8\"],[0.3333333333333333,\"#9c179e\"],[0.4444444444444444,\"#bd3786\"],[0.5555555555555556,\"#d8576b\"],[0.6666666666666666,\"#ed7953\"],[0.7777777777777778,\"#fb9f3a\"],[0.8888888888888888,\"#fdca26\"],[1.0,\"#f0f921\"]]}],\"surface\":[{\"type\":\"surface\",\"colorbar\":{\"outlinewidth\":0,\"ticks\":\"\"},\"colorscale\":[[0.0,\"#0d0887\"],[0.1111111111111111,\"#46039f\"],[0.2222222222222222,\"#7201a8\"],[0.3333333333333333,\"#9c179e\"],[0.4444444444444444,\"#bd3786\"],[0.5555555555555556,\"#d8576b\"],[0.6666666666666666,\"#ed7953\"],[0.7777777777777778,\"#fb9f3a\"],[0.8888888888888888,\"#fdca26\"],[1.0,\"#f0f921\"]]}],\"mesh3d\":[{\"type\":\"mesh3d\",\"colorbar\":{\"outlinewidth\":0,\"ticks\":\"\"}}],\"scatter\":[{\"fillpattern\":{\"fillmode\":\"overlay\",\"size\":10,\"solidity\":0.2},\"type\":\"scatter\"}],\"parcoords\":[{\"type\":\"parcoords\",\"line\":{\"colorbar\":{\"outlinewidth\":0,\"ticks\":\"\"}}}],\"scatterpolargl\":[{\"type\":\"scatterpolargl\",\"marker\":{\"colorbar\":{\"outlinewidth\":0,\"ticks\":\"\"}}}],\"bar\":[{\"error_x\":{\"color\":\"#2a3f5f\"},\"error_y\":{\"color\":\"#2a3f5f\"},\"marker\":{\"line\":{\"color\":\"#E5ECF6\",\"width\":0.5},\"pattern\":{\"fillmode\":\"overlay\",\"size\":10,\"solidity\":0.2}},\"type\":\"bar\"}],\"scattergeo\":[{\"type\":\"scattergeo\",\"marker\":{\"colorbar\":{\"outlinewidth\":0,\"ticks\":\"\"}}}],\"scatterpolar\":[{\"type\":\"scatterpolar\",\"marker\":{\"colorbar\":{\"outlinewidth\":0,\"ticks\":\"\"}}}],\"histogram\":[{\"marker\":{\"pattern\":{\"fillmode\":\"overlay\",\"size\":10,\"solidity\":0.2}},\"type\":\"histogram\"}],\"scattergl\":[{\"type\":\"scattergl\",\"marker\":{\"colorbar\":{\"outlinewidth\":0,\"ticks\":\"\"}}}],\"scatter3d\":[{\"type\":\"scatter3d\",\"line\":{\"colorbar\":{\"outlinewidth\":0,\"ticks\":\"\"}},\"marker\":{\"colorbar\":{\"outlinewidth\":0,\"ticks\":\"\"}}}],\"scattermapbox\":[{\"type\":\"scattermapbox\",\"marker\":{\"colorbar\":{\"outlinewidth\":0,\"ticks\":\"\"}}}],\"scatterternary\":[{\"type\":\"scatterternary\",\"marker\":{\"colorbar\":{\"outlinewidth\":0,\"ticks\":\"\"}}}],\"scattercarpet\":[{\"type\":\"scattercarpet\",\"marker\":{\"colorbar\":{\"outlinewidth\":0,\"ticks\":\"\"}}}],\"carpet\":[{\"aaxis\":{\"endlinecolor\":\"#2a3f5f\",\"gridcolor\":\"white\",\"linecolor\":\"white\",\"minorgridcolor\":\"white\",\"startlinecolor\":\"#2a3f5f\"},\"baxis\":{\"endlinecolor\":\"#2a3f5f\",\"gridcolor\":\"white\",\"linecolor\":\"white\",\"minorgridcolor\":\"white\",\"startlinecolor\":\"#2a3f5f\"},\"type\":\"carpet\"}],\"table\":[{\"cells\":{\"fill\":{\"color\":\"#EBF0F8\"},\"line\":{\"color\":\"white\"}},\"header\":{\"fill\":{\"color\":\"#C8D4E3\"},\"line\":{\"color\":\"white\"}},\"type\":\"table\"}],\"barpolar\":[{\"marker\":{\"line\":{\"color\":\"#E5ECF6\",\"width\":0.5},\"pattern\":{\"fillmode\":\"overlay\",\"size\":10,\"solidity\":0.2}},\"type\":\"barpolar\"}],\"pie\":[{\"automargin\":true,\"type\":\"pie\"}]},\"layout\":{\"autotypenumbers\":\"strict\",\"colorway\":[\"#636efa\",\"#EF553B\",\"#00cc96\",\"#ab63fa\",\"#FFA15A\",\"#19d3f3\",\"#FF6692\",\"#B6E880\",\"#FF97FF\",\"#FECB52\"],\"font\":{\"color\":\"#2a3f5f\"},\"hovermode\":\"closest\",\"hoverlabel\":{\"align\":\"left\"},\"paper_bgcolor\":\"white\",\"plot_bgcolor\":\"#E5ECF6\",\"polar\":{\"bgcolor\":\"#E5ECF6\",\"angularaxis\":{\"gridcolor\":\"white\",\"linecolor\":\"white\",\"ticks\":\"\"},\"radialaxis\":{\"gridcolor\":\"white\",\"linecolor\":\"white\",\"ticks\":\"\"}},\"ternary\":{\"bgcolor\":\"#E5ECF6\",\"aaxis\":{\"gridcolor\":\"white\",\"linecolor\":\"white\",\"ticks\":\"\"},\"baxis\":{\"gridcolor\":\"white\",\"linecolor\":\"white\",\"ticks\":\"\"},\"caxis\":{\"gridcolor\":\"white\",\"linecolor\":\"white\",\"ticks\":\"\"}},\"coloraxis\":{\"colorbar\":{\"outlinewidth\":0,\"ticks\":\"\"}},\"colorscale\":{\"sequential\":[[0.0,\"#0d0887\"],[0.1111111111111111,\"#46039f\"],[0.2222222222222222,\"#7201a8\"],[0.3333333333333333,\"#9c179e\"],[0.4444444444444444,\"#bd3786\"],[0.5555555555555556,\"#d8576b\"],[0.6666666666666666,\"#ed7953\"],[0.7777777777777778,\"#fb9f3a\"],[0.8888888888888888,\"#fdca26\"],[1.0,\"#f0f921\"]],\"sequentialminus\":[[0.0,\"#0d0887\"],[0.1111111111111111,\"#46039f\"],[0.2222222222222222,\"#7201a8\"],[0.3333333333333333,\"#9c179e\"],[0.4444444444444444,\"#bd3786\"],[0.5555555555555556,\"#d8576b\"],[0.6666666666666666,\"#ed7953\"],[0.7777777777777778,\"#fb9f3a\"],[0.8888888888888888,\"#fdca26\"],[1.0,\"#f0f921\"]],\"diverging\":[[0,\"#8e0152\"],[0.1,\"#c51b7d\"],[0.2,\"#de77ae\"],[0.3,\"#f1b6da\"],[0.4,\"#fde0ef\"],[0.5,\"#f7f7f7\"],[0.6,\"#e6f5d0\"],[0.7,\"#b8e186\"],[0.8,\"#7fbc41\"],[0.9,\"#4d9221\"],[1,\"#276419\"]]},\"xaxis\":{\"gridcolor\":\"white\",\"linecolor\":\"white\",\"ticks\":\"\",\"title\":{\"standoff\":15},\"zerolinecolor\":\"white\",\"automargin\":true,\"zerolinewidth\":2},\"yaxis\":{\"gridcolor\":\"white\",\"linecolor\":\"white\",\"ticks\":\"\",\"title\":{\"standoff\":15},\"zerolinecolor\":\"white\",\"automargin\":true,\"zerolinewidth\":2},\"scene\":{\"xaxis\":{\"backgroundcolor\":\"#E5ECF6\",\"gridcolor\":\"white\",\"linecolor\":\"white\",\"showbackground\":true,\"ticks\":\"\",\"zerolinecolor\":\"white\",\"gridwidth\":2},\"yaxis\":{\"backgroundcolor\":\"#E5ECF6\",\"gridcolor\":\"white\",\"linecolor\":\"white\",\"showbackground\":true,\"ticks\":\"\",\"zerolinecolor\":\"white\",\"gridwidth\":2},\"zaxis\":{\"backgroundcolor\":\"#E5ECF6\",\"gridcolor\":\"white\",\"linecolor\":\"white\",\"showbackground\":true,\"ticks\":\"\",\"zerolinecolor\":\"white\",\"gridwidth\":2}},\"shapedefaults\":{\"line\":{\"color\":\"#2a3f5f\"}},\"annotationdefaults\":{\"arrowcolor\":\"#2a3f5f\",\"arrowhead\":0,\"arrowwidth\":1},\"geo\":{\"bgcolor\":\"white\",\"landcolor\":\"#E5ECF6\",\"subunitcolor\":\"white\",\"showland\":true,\"showlakes\":true,\"lakecolor\":\"white\"},\"title\":{\"x\":0.05},\"mapbox\":{\"style\":\"light\"}}},\"scene\":{\"domain\":{\"x\":[0.0,1.0],\"y\":[0.0,1.0]},\"xaxis\":{\"title\":{\"text\":\"comp. 1\"}},\"yaxis\":{\"title\":{\"text\":\"comp. 2\"}},\"zaxis\":{\"title\":{\"text\":\"comp. 3\"}}},\"coloraxis\":{\"colorbar\":{\"title\":{\"text\":\"color\"}},\"colorscale\":[[0.0,\"#0d0887\"],[0.1111111111111111,\"#46039f\"],[0.2222222222222222,\"#7201a8\"],[0.3333333333333333,\"#9c179e\"],[0.4444444444444444,\"#bd3786\"],[0.5555555555555556,\"#d8576b\"],[0.6666666666666666,\"#ed7953\"],[0.7777777777777778,\"#fb9f3a\"],[0.8888888888888888,\"#fdca26\"],[1.0,\"#f0f921\"]]},\"legend\":{\"tracegroupgap\":0,\"itemsizing\":\"constant\"},\"title\":{\"text\":\"t-SNE plot in 3D\"},\"height\":500,\"width\":650},                        {\"responsive\": true}                    ).then(function(){\n",
              "                            \n",
              "var gd = document.getElementById('4f9371aa-b08e-41e1-969a-3b9594719e1d');\n",
              "var x = new MutationObserver(function (mutations, observer) {{\n",
              "        var display = window.getComputedStyle(gd).display;\n",
              "        if (!display || display === 'none') {{\n",
              "            console.log([gd, 'removed!']);\n",
              "            Plotly.purge(gd);\n",
              "            observer.disconnect();\n",
              "        }}\n",
              "}});\n",
              "\n",
              "// Listen for the removal of the full notebook cells\n",
              "var notebookContainer = gd.closest('#notebook-container');\n",
              "if (notebookContainer) {{\n",
              "    x.observe(notebookContainer, {childList: true});\n",
              "}}\n",
              "\n",
              "// Listen for the clearing of the current output cell\n",
              "var outputEl = gd.closest('.output');\n",
              "if (outputEl) {{\n",
              "    x.observe(outputEl, {childList: true});\n",
              "}}\n",
              "\n",
              "                        })                };                            </script>        </div>\n",
              "</body>\n",
              "</html>"
            ]
          },
          "metadata": {}
        }
      ],
      "source": [
        "tsne = TSNE(n_components=3)\n",
        "components_tsne = tsne.fit_transform(X)\n",
        "\n",
        "fig = px.scatter_3d(\n",
        "    components_tsne, x=0, y=1, z=2, color=clusters, size=0.1*np.ones(len(X)), opacity = 1,\n",
        "    title='t-SNE plot in 3D',\n",
        "    labels={'0': 'comp. 1', '1': 'comp. 2', '2': 'comp. 3'},\n",
        "    width=650, height=500\n",
        ")\n",
        "fig.show()"
      ]
    },
    {
      "cell_type": "markdown",
      "metadata": {
        "papermill": {
          "duration": 0.037036,
          "end_time": "2022-05-05T08:31:11.936428",
          "exception": false,
          "start_time": "2022-05-05T08:31:11.899392",
          "status": "completed"
        },
        "tags": [],
        "id": "-aqjuhFeMlMm"
      },
      "source": [
        "# Метод Агломеративно-иерархической кластеризации"
      ],
      "id": "-aqjuhFeMlMm"
    },
    {
      "cell_type": "code",
      "source": [
        "from scipy.cluster.hierarchy import dendrogram, linkage\n",
        "from sklearn.cluster import AgglomerativeClustering\n",
        "from sklearn.metrics import silhouette_score\n",
        "\n",
        "linkage_matrix = linkage(X, method='ward')"
      ],
      "metadata": {
        "id": "cgeuycBYMlMt"
      },
      "execution_count": null,
      "outputs": [],
      "id": "cgeuycBYMlMt"
    },
    {
      "cell_type": "code",
      "source": [
        "plt.title('Linkage : Wards')\n",
        "dendrogram(linkage_matrix);"
      ],
      "metadata": {
        "colab": {
          "base_uri": "https://localhost:8080/",
          "height": 471
        },
        "outputId": "3794a978-8918-4597-ff86-4c80e76bd0c1",
        "id": "-SlOIuDUMlMt"
      },
      "execution_count": null,
      "outputs": [
        {
          "output_type": "display_data",
          "data": {
            "text/plain": [
              "<Figure size 1200x500 with 1 Axes>"
            ],
            "image/png": "[encoded data removed]"
          },
          "metadata": {}
        }
      ],
      "id": "-SlOIuDUMlMt"
    },
    {
      "cell_type": "code",
      "source": [
        "ac = AgglomerativeClustering(n_clusters=3)\n",
        "ac.fit(X)\n",
        "labels_ac = ac.labels_"
      ],
      "metadata": {
        "id": "p1BxqBlwMlMu"
      },
      "execution_count": null,
      "outputs": [],
      "id": "p1BxqBlwMlMu"
    },
    {
      "cell_type": "code",
      "execution_count": null,
      "metadata": {
        "execution": {
          "iopub.execute_input": "2022-05-05T08:31:12.098483Z",
          "iopub.status.busy": "2022-05-05T08:31:12.097682Z",
          "iopub.status.idle": "2022-05-05T08:31:12.153973Z",
          "shell.execute_reply": "2022-05-05T08:31:12.153120Z",
          "shell.execute_reply.started": "2022-03-24T16:30:08.556717Z"
        },
        "papermill": {
          "duration": 0.102773,
          "end_time": "2022-05-05T08:31:12.154152",
          "exception": false,
          "start_time": "2022-05-05T08:31:12.051379",
          "status": "completed"
        },
        "tags": [],
        "colab": {
          "base_uri": "https://localhost:8080/"
        },
        "outputId": "c4693163-e6a3-460b-92fd-3c9c0906ae1e",
        "id": "wXZk0bgHMlMu"
      },
      "outputs": [
        {
          "output_type": "stream",
          "name": "stdout",
          "text": [
            "Silhouette Score: 0.2774439826952265\n"
          ]
        }
      ],
      "source": [
        "silhouette_avg = silhouette_score(X, labels_ac)\n",
        "print(f\"Silhouette Score: {silhouette_avg}\")"
      ],
      "id": "wXZk0bgHMlMu"
    },
    {
      "cell_type": "markdown",
      "metadata": {
        "papermill": {
          "duration": 0.038858,
          "end_time": "2022-05-05T08:31:12.694877",
          "exception": false,
          "start_time": "2022-05-05T08:31:12.656019",
          "status": "completed"
        },
        "tags": [],
        "id": "-Tx18bP2OkL0"
      },
      "source": [
        "# PCA для иерархической кластеризации"
      ],
      "id": "-Tx18bP2OkL0"
    },
    {
      "cell_type": "markdown",
      "metadata": {
        "papermill": {
          "duration": 0.037167,
          "end_time": "2022-05-05T08:31:12.228786",
          "exception": false,
          "start_time": "2022-05-05T08:31:12.191619",
          "status": "completed"
        },
        "tags": [],
        "id": "HMmcky_jOkL6"
      },
      "source": [
        "**PCA plot in 2D coloured by cluster**"
      ],
      "id": "HMmcky_jOkL6"
    },
    {
      "cell_type": "code",
      "execution_count": null,
      "metadata": {
        "execution": {
          "iopub.execute_input": "2022-05-05T08:31:12.311684Z",
          "iopub.status.busy": "2022-05-05T08:31:12.310878Z",
          "iopub.status.idle": "2022-05-05T08:31:12.616154Z",
          "shell.execute_reply": "2022-05-05T08:31:12.616672Z",
          "shell.execute_reply.started": "2022-03-24T16:30:08.612763Z"
        },
        "papermill": {
          "duration": 0.350018,
          "end_time": "2022-05-05T08:31:12.616839",
          "exception": false,
          "start_time": "2022-05-05T08:31:12.266821",
          "status": "completed"
        },
        "tags": [],
        "colab": {
          "base_uri": "https://localhost:8080/",
          "height": 593
        },
        "outputId": "3ea6d5ea-c0d1-4c4b-91c3-a7d4e4d1bcaa",
        "id": "L8wZ9g3IOkL6"
      },
      "outputs": [
        {
          "output_type": "execute_result",
          "data": {
            "text/plain": [
              "Text(0, 0.5, 'PC2')"
            ]
          },
          "metadata": {},
          "execution_count": 244
        },
        {
          "output_type": "display_data",
          "data": {
            "text/plain": [
              "<Figure size 800x600 with 1 Axes>"
            ],
            "image/png": "[encoded data removed]"
          },
          "metadata": {}
        }
      ],
      "source": [
        "plt.figure(figsize=(8,6))\n",
        "\n",
        "plt.scatter(principal_df.iloc[:,0], principal_df.iloc[:,1], c=labels_ac, cmap=\"brg\", s=40)\n",
        "\n",
        "plt.title('PCA plot in 2D')\n",
        "plt.xlabel('PC1')\n",
        "plt.ylabel('PC2')"
      ],
      "id": "L8wZ9g3IOkL6"
    },
    {
      "cell_type": "code",
      "source": [
        "silhouette_avg = silhouette_score(X_pca, labels_ac)\n",
        "print(f\"Silhouette Score: {silhouette_avg}\")"
      ],
      "metadata": {
        "colab": {
          "base_uri": "https://localhost:8080/"
        },
        "id": "Ig1l9TpAX9O8",
        "outputId": "15d78549-d4d0-46ff-f9f8-ce80818f7a87"
      },
      "id": "Ig1l9TpAX9O8",
      "execution_count": null,
      "outputs": [
        {
          "output_type": "stream",
          "name": "stdout",
          "text": [
            "Silhouette Score: 0.5193042413406732\n"
          ]
        }
      ]
    },
    {
      "cell_type": "markdown",
      "metadata": {
        "papermill": {
          "duration": 0.045091,
          "end_time": "2022-05-05T08:31:14.908763",
          "exception": false,
          "start_time": "2022-05-05T08:31:14.863672",
          "status": "completed"
        },
        "tags": [],
        "id": "Z4jqzyuJUVMi"
      },
      "source": [
        "# t-SNE для иерархической кластеризации"
      ],
      "id": "Z4jqzyuJUVMi"
    },
    {
      "cell_type": "code",
      "execution_count": null,
      "metadata": {
        "_kg_hide-input": false,
        "execution": {
          "iopub.execute_input": "2022-05-05T08:31:15.088708Z",
          "iopub.status.busy": "2022-05-05T08:31:15.087430Z",
          "iopub.status.idle": "2022-05-05T08:31:15.827020Z",
          "shell.execute_reply": "2022-05-05T08:31:15.827793Z",
          "shell.execute_reply.started": "2022-03-24T16:30:10.355724Z"
        },
        "papermill": {
          "duration": 0.79204,
          "end_time": "2022-05-05T08:31:15.828057",
          "exception": false,
          "start_time": "2022-05-05T08:31:15.036017",
          "status": "completed"
        },
        "tags": [],
        "colab": {
          "base_uri": "https://localhost:8080/",
          "height": 223
        },
        "outputId": "b9e5e562-aa0b-4928-8f25-68ffa40d379a",
        "id": "BfLtaw-1UVMp"
      },
      "outputs": [
        {
          "output_type": "stream",
          "name": "stdout",
          "text": [
            "(178, 2)\n"
          ]
        },
        {
          "output_type": "execute_result",
          "data": {
            "text/plain": [
              "   tsne comp. 1  tsne comp. 2\n",
              "0      6.443991      8.973692\n",
              "1      5.366402      3.335992\n",
              "2      9.312646      6.008636\n",
              "3      9.530156      8.709154\n",
              "4      3.865229      4.992229"
            ],
            "text/html": [
              "\n",
              "  <div id=\"df-a8cb857d-027f-4717-a3c6-e8bd8f999c6b\" class=\"colab-df-container\">\n",
              "    <div>\n",
              "<style scoped>\n",
              "    .dataframe tbody tr th:only-of-type {\n",
              "        vertical-align: middle;\n",
              "    }\n",
              "\n",
              "    .dataframe tbody tr th {\n",
              "        vertical-align: top;\n",
              "    }\n",
              "\n",
              "    .dataframe thead th {\n",
              "        text-align: right;\n",
              "    }\n",
              "</style>\n",
              "<table border=\"1\" class=\"dataframe\">\n",
              "  <thead>\n",
              "    <tr style=\"text-align: right;\">\n",
              "      <th></th>\n",
              "      <th>tsne comp. 1</th>\n",
              "      <th>tsne comp. 2</th>\n",
              "    </tr>\n",
              "  </thead>\n",
              "  <tbody>\n",
              "    <tr>\n",
              "      <th>0</th>\n",
              "      <td>6.443991</td>\n",
              "      <td>8.973692</td>\n",
              "    </tr>\n",
              "    <tr>\n",
              "      <th>1</th>\n",
              "      <td>5.366402</td>\n",
              "      <td>3.335992</td>\n",
              "    </tr>\n",
              "    <tr>\n",
              "      <th>2</th>\n",
              "      <td>9.312646</td>\n",
              "      <td>6.008636</td>\n",
              "    </tr>\n",
              "    <tr>\n",
              "      <th>3</th>\n",
              "      <td>9.530156</td>\n",
              "      <td>8.709154</td>\n",
              "    </tr>\n",
              "    <tr>\n",
              "      <th>4</th>\n",
              "      <td>3.865229</td>\n",
              "      <td>4.992229</td>\n",
              "    </tr>\n",
              "  </tbody>\n",
              "</table>\n",
              "</div>\n",
              "    <div class=\"colab-df-buttons\">\n",
              "\n",
              "  <div class=\"colab-df-container\">\n",
              "    <button class=\"colab-df-convert\" onclick=\"convertToInteractive('df-a8cb857d-027f-4717-a3c6-e8bd8f999c6b')\"\n",
              "            title=\"Convert this dataframe to an interactive table.\"\n",
              "            style=\"display:none;\">\n",
              "\n",
              "  <svg xmlns=\"http://www.w3.org/2000/svg\" height=\"24px\" viewBox=\"0 -960 960 960\">\n",
              "    <path d=\"M120-120v-720h720v720H120Zm60-500h600v-160H180v160Zm220 220h160v-160H400v160Zm0 220h160v-160H400v160ZM180-400h160v-160H180v160Zm440 0h160v-160H620v160ZM180-180h160v-160H180v160Zm440 0h160v-160H620v160Z\"/>\n",
              "  </svg>\n",
              "    </button>\n",
              "\n",
              "  <style>\n",
              "    .colab-df-container {\n",
              "      display:flex;\n",
              "      gap: 12px;\n",
              "    }\n",
              "\n",
              "    .colab-df-convert {\n",
              "      background-color: #E8F0FE;\n",
              "      border: none;\n",
              "      border-radius: 50%;\n",
              "      cursor: pointer;\n",
              "      display: none;\n",
              "      fill: #1967D2;\n",
              "      height: 32px;\n",
              "      padding: 0 0 0 0;\n",
              "      width: 32px;\n",
              "    }\n",
              "\n",
              "    .colab-df-convert:hover {\n",
              "      background-color: #E2EBFA;\n",
              "      box-shadow: 0px 1px 2px rgba(60, 64, 67, 0.3), 0px 1px 3px 1px rgba(60, 64, 67, 0.15);\n",
              "      fill: #174EA6;\n",
              "    }\n",
              "\n",
              "    .colab-df-buttons div {\n",
              "      margin-bottom: 4px;\n",
              "    }\n",
              "\n",
              "    [theme=dark] .colab-df-convert {\n",
              "      background-color: #3B4455;\n",
              "      fill: #D2E3FC;\n",
              "    }\n",
              "\n",
              "    [theme=dark] .colab-df-convert:hover {\n",
              "      background-color: #434B5C;\n",
              "      box-shadow: 0px 1px 3px 1px rgba(0, 0, 0, 0.15);\n",
              "      filter: drop-shadow(0px 1px 2px rgba(0, 0, 0, 0.3));\n",
              "      fill: #FFFFFF;\n",
              "    }\n",
              "  </style>\n",
              "\n",
              "    <script>\n",
              "      const buttonEl =\n",
              "        document.querySelector('#df-a8cb857d-027f-4717-a3c6-e8bd8f999c6b button.colab-df-convert');\n",
              "      buttonEl.style.display =\n",
              "        google.colab.kernel.accessAllowed ? 'block' : 'none';\n",
              "\n",
              "      async function convertToInteractive(key) {\n",
              "        const element = document.querySelector('#df-a8cb857d-027f-4717-a3c6-e8bd8f999c6b');\n",
              "        const dataTable =\n",
              "          await google.colab.kernel.invokeFunction('convertToInteractive',\n",
              "                                                    [key], {});\n",
              "        if (!dataTable) return;\n",
              "\n",
              "        const docLinkHtml = 'Like what you see? Visit the ' +\n",
              "          '<a target=\"_blank\" href=https://colab.research.google.com/notebooks/data_table.ipynb>data table notebook</a>'\n",
              "          + ' to learn more about interactive tables.';\n",
              "        element.innerHTML = '';\n",
              "        dataTable['output_type'] = 'display_data';\n",
              "        await google.colab.output.renderOutput(dataTable, element);\n",
              "        const docLink = document.createElement('div');\n",
              "        docLink.innerHTML = docLinkHtml;\n",
              "        element.appendChild(docLink);\n",
              "      }\n",
              "    </script>\n",
              "  </div>\n",
              "\n",
              "\n",
              "<div id=\"df-ed65d3d5-1484-43e3-b4fb-f82b31fea3b6\">\n",
              "  <button class=\"colab-df-quickchart\" onclick=\"quickchart('df-ed65d3d5-1484-43e3-b4fb-f82b31fea3b6')\"\n",
              "            title=\"Suggest charts\"\n",
              "            style=\"display:none;\">\n",
              "\n",
              "<svg xmlns=\"http://www.w3.org/2000/svg\" height=\"24px\"viewBox=\"0 0 24 24\"\n",
              "     width=\"24px\">\n",
              "    <g>\n",
              "        <path d=\"M19 3H5c-1.1 0-2 .9-2 2v14c0 1.1.9 2 2 2h14c1.1 0 2-.9 2-2V5c0-1.1-.9-2-2-2zM9 17H7v-7h2v7zm4 0h-2V7h2v10zm4 0h-2v-4h2v4z\"/>\n",
              "    </g>\n",
              "</svg>\n",
              "  </button>\n",
              "\n",
              "<style>\n",
              "  .colab-df-quickchart {\n",
              "      --bg-color: #E8F0FE;\n",
              "      --fill-color: #1967D2;\n",
              "      --hover-bg-color: #E2EBFA;\n",
              "      --hover-fill-color: #174EA6;\n",
              "      --disabled-fill-color: #AAA;\n",
              "      --disabled-bg-color: #DDD;\n",
              "  }\n",
              "\n",
              "  [theme=dark] .colab-df-quickchart {\n",
              "      --bg-color: #3B4455;\n",
              "      --fill-color: #D2E3FC;\n",
              "      --hover-bg-color: #434B5C;\n",
              "      --hover-fill-color: #FFFFFF;\n",
              "      --disabled-bg-color: #3B4455;\n",
              "      --disabled-fill-color: #666;\n",
              "  }\n",
              "\n",
              "  .colab-df-quickchart {\n",
              "    background-color: var(--bg-color);\n",
              "    border: none;\n",
              "    border-radius: 50%;\n",
              "    cursor: pointer;\n",
              "    display: none;\n",
              "    fill: var(--fill-color);\n",
              "    height: 32px;\n",
              "    padding: 0;\n",
              "    width: 32px;\n",
              "  }\n",
              "\n",
              "  .colab-df-quickchart:hover {\n",
              "    background-color: var(--hover-bg-color);\n",
              "    box-shadow: 0 1px 2px rgba(60, 64, 67, 0.3), 0 1px 3px 1px rgba(60, 64, 67, 0.15);\n",
              "    fill: var(--button-hover-fill-color);\n",
              "  }\n",
              "\n",
              "  .colab-df-quickchart-complete:disabled,\n",
              "  .colab-df-quickchart-complete:disabled:hover {\n",
              "    background-color: var(--disabled-bg-color);\n",
              "    fill: var(--disabled-fill-color);\n",
              "    box-shadow: none;\n",
              "  }\n",
              "\n",
              "  .colab-df-spinner {\n",
              "    border: 2px solid var(--fill-color);\n",
              "    border-color: transparent;\n",
              "    border-bottom-color: var(--fill-color);\n",
              "    animation:\n",
              "      spin 1s steps(1) infinite;\n",
              "  }\n",
              "\n",
              "  @keyframes spin {\n",
              "    0% {\n",
              "      border-color: transparent;\n",
              "      border-bottom-color: var(--fill-color);\n",
              "      border-left-color: var(--fill-color);\n",
              "    }\n",
              "    20% {\n",
              "      border-color: transparent;\n",
              "      border-left-color: var(--fill-color);\n",
              "      border-top-color: var(--fill-color);\n",
              "    }\n",
              "    30% {\n",
              "      border-color: transparent;\n",
              "      border-left-color: var(--fill-color);\n",
              "      border-top-color: var(--fill-color);\n",
              "      border-right-color: var(--fill-color);\n",
              "    }\n",
              "    40% {\n",
              "      border-color: transparent;\n",
              "      border-right-color: var(--fill-color);\n",
              "      border-top-color: var(--fill-color);\n",
              "    }\n",
              "    60% {\n",
              "      border-color: transparent;\n",
              "      border-right-color: var(--fill-color);\n",
              "    }\n",
              "    80% {\n",
              "      border-color: transparent;\n",
              "      border-right-color: var(--fill-color);\n",
              "      border-bottom-color: var(--fill-color);\n",
              "    }\n",
              "    90% {\n",
              "      border-color: transparent;\n",
              "      border-bottom-color: var(--fill-color);\n",
              "    }\n",
              "  }\n",
              "</style>\n",
              "\n",
              "  <script>\n",
              "    async function quickchart(key) {\n",
              "      const quickchartButtonEl =\n",
              "        document.querySelector('#' + key + ' button');\n",
              "      quickchartButtonEl.disabled = true;  // To prevent multiple clicks.\n",
              "      quickchartButtonEl.classList.add('colab-df-spinner');\n",
              "      try {\n",
              "        const charts = await google.colab.kernel.invokeFunction(\n",
              "            'suggestCharts', [key], {});\n",
              "      } catch (error) {\n",
              "        console.error('Error during call to suggestCharts:', error);\n",
              "      }\n",
              "      quickchartButtonEl.classList.remove('colab-df-spinner');\n",
              "      quickchartButtonEl.classList.add('colab-df-quickchart-complete');\n",
              "    }\n",
              "    (() => {\n",
              "      let quickchartButtonEl =\n",
              "        document.querySelector('#df-ed65d3d5-1484-43e3-b4fb-f82b31fea3b6 button');\n",
              "      quickchartButtonEl.style.display =\n",
              "        google.colab.kernel.accessAllowed ? 'block' : 'none';\n",
              "    })();\n",
              "  </script>\n",
              "</div>\n",
              "    </div>\n",
              "  </div>\n"
            ],
            "application/vnd.google.colaboratory.intrinsic+json": {
              "type": "dataframe",
              "variable_name": "tsne_df",
              "summary": "{\n  \"name\": \"tsne_df\",\n  \"rows\": 178,\n  \"fields\": [\n    {\n      \"column\": \"tsne comp. 1\",\n      \"properties\": {\n        \"dtype\": \"float32\",\n        \"num_unique_values\": 178,\n        \"samples\": [\n          8.111493110656738,\n          7.395541191101074,\n          -10.641082763671875\n        ],\n        \"semantic_type\": \"\",\n        \"description\": \"\"\n      }\n    },\n    {\n      \"column\": \"tsne comp. 2\",\n      \"properties\": {\n        \"dtype\": \"float32\",\n        \"num_unique_values\": 178,\n        \"samples\": [\n          1.895561933517456,\n          1.1671264171600342,\n          -6.2627644538879395\n        ],\n        \"semantic_type\": \"\",\n        \"description\": \"\"\n      }\n    }\n  ]\n}"
            }
          },
          "metadata": {},
          "execution_count": 246
        }
      ],
      "source": [
        "tsne = TSNE(n_components=2)\n",
        "X_tsne = tsne.fit_transform(X)\n",
        "\n",
        "tsne_df = pd.DataFrame(data = X_tsne, columns = ['tsne comp. 1', 'tsne comp. 2'])\n",
        "\n",
        "print(tsne_df.shape)\n",
        "tsne_df.head()"
      ],
      "id": "BfLtaw-1UVMp"
    },
    {
      "cell_type": "markdown",
      "metadata": {
        "papermill": {
          "duration": 0.052915,
          "end_time": "2022-05-05T08:31:15.936291",
          "exception": false,
          "start_time": "2022-05-05T08:31:15.883376",
          "status": "completed"
        },
        "tags": [],
        "id": "0z4-jS9bUVMp"
      },
      "source": [
        "**t-SNE plot in 2D coloured by class**"
      ],
      "id": "0z4-jS9bUVMp"
    },
    {
      "cell_type": "code",
      "execution_count": null,
      "metadata": {
        "_kg_hide-input": false,
        "execution": {
          "iopub.execute_input": "2022-05-05T08:31:16.560418Z",
          "iopub.status.busy": "2022-05-05T08:31:16.559572Z",
          "iopub.status.idle": "2022-05-05T08:31:16.878572Z",
          "shell.execute_reply": "2022-05-05T08:31:16.879566Z",
          "shell.execute_reply.started": "2022-03-24T16:30:10.987051Z"
        },
        "papermill": {
          "duration": 0.789202,
          "end_time": "2022-05-05T08:31:16.879781",
          "exception": false,
          "start_time": "2022-05-05T08:31:16.090579",
          "status": "completed"
        },
        "tags": [],
        "colab": {
          "base_uri": "https://localhost:8080/",
          "height": 593
        },
        "outputId": "a13abbec-6976-43e2-b1b6-336e0c29db8d",
        "id": "R38wvBbJUVMp"
      },
      "outputs": [
        {
          "output_type": "execute_result",
          "data": {
            "text/plain": [
              "Text(0, 0.5, 'tsne component 2')"
            ]
          },
          "metadata": {},
          "execution_count": 247
        },
        {
          "output_type": "display_data",
          "data": {
            "text/plain": [
              "<Figure size 800x600 with 1 Axes>"
            ],
            "image/png": "[encoded data removed]"
          },
          "metadata": {}
        }
      ],
      "source": [
        "plt.figure(figsize=(8,6))\n",
        "\n",
        "plt.scatter(tsne_df.iloc[:,0], tsne_df.iloc[:,1], c=labels_ac, cmap=\"brg\", s=40)\n",
        "\n",
        "plt.title('t-SNE plot in 2D')\n",
        "plt.xlabel('tsne component 1')\n",
        "plt.ylabel('tsne component 2')"
      ],
      "id": "R38wvBbJUVMp"
    },
    {
      "cell_type": "code",
      "source": [
        "silhouette_avg = silhouette_score(X_tsne, labels_ac)\n",
        "print(f\"Silhouette Score: {silhouette_avg}\")"
      ],
      "metadata": {
        "colab": {
          "base_uri": "https://localhost:8080/"
        },
        "id": "fN5wi8WnYKZR",
        "outputId": "570debce-56d3-4ff8-d331-8d447788bde2"
      },
      "id": "fN5wi8WnYKZR",
      "execution_count": null,
      "outputs": [
        {
          "output_type": "stream",
          "name": "stdout",
          "text": [
            "Silhouette Score: 0.5877056121826172\n"
          ]
        }
      ]
    }
  ],
  "metadata": {
    "kernelspec": {
      "display_name": "Python 3",
      "language": "python",
      "name": "python3"
    },
    "language_info": {
      "codemirror_mode": {
        "name": "ipython",
        "version": 3
      },
      "file_extension": ".py",
      "mimetype": "text/x-python",
      "name": "python",
      "nbconvert_exporter": "python",
      "pygments_lexer": "ipython3",
      "version": "3.7.10"
    },
    "papermill": {
      "default_parameters": {},
      "duration": 87.83755,
      "end_time": "2022-05-05T08:31:55.602112",
      "environment_variables": {},
      "exception": null,
      "input_path": "__notebook__.ipynb",
      "output_path": "__notebook__.ipynb",
      "parameters": {},
      "start_time": "2022-05-05T08:30:27.764562",
      "version": "2.3.3"
    },
    "colab": {
      "provenance": []
    }
  },
  "nbformat": 4,
  "nbformat_minor": 5
}